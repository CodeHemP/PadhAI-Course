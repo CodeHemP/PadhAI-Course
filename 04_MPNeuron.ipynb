{
  "nbformat": 4,
  "nbformat_minor": 0,
  "metadata": {
    "colab": {
      "name": "04_MPNeuron.ipynb",
      "version": "0.3.2",
      "provenance": [],
      "collapsed_sections": [
        "UgTAl0CULJ1Q",
        "cLykHjbhLNcn",
        "Tq5tyuaeNocz",
        "KyoV5wnLPLMn",
        "qtoG36F6Vbhw"
      ],
      "include_colab_link": true
    },
    "kernelspec": {
      "name": "python3",
      "display_name": "Python 3"
    }
  },
  "cells": [
    {
      "cell_type": "markdown",
      "metadata": {
        "id": "view-in-github",
        "colab_type": "text"
      },
      "source": [
        "<a href=\"https://colab.research.google.com/github/satyajitghana/PadhAI-Course/blob/master/04_MPNeuron.ipynb\" target=\"_parent\"><img src=\"https://colab.research.google.com/assets/colab-badge.svg\" alt=\"Open In Colab\"/></a>"
      ]
    },
    {
      "cell_type": "code",
      "metadata": {
        "id": "ser0hOsOMi6P",
        "colab_type": "code",
        "outputId": "aaee5604-6d12-4372-f864-80a1fe2a0461",
        "colab": {
          "base_uri": "https://localhost:8080/",
          "height": 123
        }
      },
      "source": [
        "!pip install sklearn"
      ],
      "execution_count": 0,
      "outputs": [
        {
          "output_type": "stream",
          "text": [
            "Requirement already satisfied: sklearn in /usr/local/lib/python3.6/dist-packages (0.0)\n",
            "Requirement already satisfied: scikit-learn in /usr/local/lib/python3.6/dist-packages (from sklearn) (0.21.3)\n",
            "Requirement already satisfied: numpy>=1.11.0 in /usr/local/lib/python3.6/dist-packages (from scikit-learn->sklearn) (1.16.4)\n",
            "Requirement already satisfied: joblib>=0.11 in /usr/local/lib/python3.6/dist-packages (from scikit-learn->sklearn) (0.13.2)\n",
            "Requirement already satisfied: scipy>=0.17.0 in /usr/local/lib/python3.6/dist-packages (from scikit-learn->sklearn) (1.3.1)\n"
          ],
          "name": "stdout"
        }
      ]
    },
    {
      "cell_type": "code",
      "metadata": {
        "id": "ELUQAoDTJFNq",
        "colab_type": "code",
        "colab": {}
      },
      "source": [
        "import sklearn.datasets\n",
        "import numpy as np\n",
        "import pandas as pd"
      ],
      "execution_count": 0,
      "outputs": []
    },
    {
      "cell_type": "markdown",
      "metadata": {
        "id": "UgTAl0CULJ1Q",
        "colab_type": "text"
      },
      "source": [
        "# Loading Dataset"
      ]
    },
    {
      "cell_type": "code",
      "metadata": {
        "id": "lnsAyc3xJV4N",
        "colab_type": "code",
        "colab": {}
      },
      "source": [
        "breast_cancer = sklearn.datasets.load_breast_cancer()"
      ],
      "execution_count": 0,
      "outputs": []
    },
    {
      "cell_type": "code",
      "metadata": {
        "id": "YUofBk2fJgRP",
        "colab_type": "code",
        "colab": {}
      },
      "source": [
        "X = breast_cancer.data\n",
        "Y = breast_cancer.target"
      ],
      "execution_count": 0,
      "outputs": []
    },
    {
      "cell_type": "code",
      "metadata": {
        "id": "eA2wp9pbJmF_",
        "colab_type": "code",
        "outputId": "d7c8896a-aa27-4704-de22-ba2deb36a3be",
        "colab": {
          "base_uri": "https://localhost:8080/"
        }
      },
      "source": [
        "type(X), type(Y), X.shape, Y.shape"
      ],
      "execution_count": 0,
      "outputs": [
        {
          "output_type": "execute_result",
          "data": {
            "text/plain": [
              "(numpy.ndarray, numpy.ndarray, (569, 30), (569,))"
            ]
          },
          "metadata": {
            "tags": []
          },
          "execution_count": 33
        }
      ]
    },
    {
      "cell_type": "code",
      "metadata": {
        "id": "hQ9bskhcJ6Ro",
        "colab_type": "code",
        "outputId": "1638af5b-955c-4a36-8105-76fe42633ccc",
        "colab": {
          "base_uri": "https://localhost:8080/"
        }
      },
      "source": [
        "breast_cancer"
      ],
      "execution_count": 0,
      "outputs": [
        {
          "output_type": "execute_result",
          "data": {
            "text/plain": [
              "{'DESCR': '.. _breast_cancer_dataset:\\n\\nBreast cancer wisconsin (diagnostic) dataset\\n--------------------------------------------\\n\\n**Data Set Characteristics:**\\n\\n    :Number of Instances: 569\\n\\n    :Number of Attributes: 30 numeric, predictive attributes and the class\\n\\n    :Attribute Information:\\n        - radius (mean of distances from center to points on the perimeter)\\n        - texture (standard deviation of gray-scale values)\\n        - perimeter\\n        - area\\n        - smoothness (local variation in radius lengths)\\n        - compactness (perimeter^2 / area - 1.0)\\n        - concavity (severity of concave portions of the contour)\\n        - concave points (number of concave portions of the contour)\\n        - symmetry \\n        - fractal dimension (\"coastline approximation\" - 1)\\n\\n        The mean, standard error, and \"worst\" or largest (mean of the three\\n        largest values) of these features were computed for each image,\\n        resulting in 30 features.  For instance, field 3 is Mean Radius, field\\n        13 is Radius SE, field 23 is Worst Radius.\\n\\n        - class:\\n                - WDBC-Malignant\\n                - WDBC-Benign\\n\\n    :Summary Statistics:\\n\\n    ===================================== ====== ======\\n                                           Min    Max\\n    ===================================== ====== ======\\n    radius (mean):                        6.981  28.11\\n    texture (mean):                       9.71   39.28\\n    perimeter (mean):                     43.79  188.5\\n    area (mean):                          143.5  2501.0\\n    smoothness (mean):                    0.053  0.163\\n    compactness (mean):                   0.019  0.345\\n    concavity (mean):                     0.0    0.427\\n    concave points (mean):                0.0    0.201\\n    symmetry (mean):                      0.106  0.304\\n    fractal dimension (mean):             0.05   0.097\\n    radius (standard error):              0.112  2.873\\n    texture (standard error):             0.36   4.885\\n    perimeter (standard error):           0.757  21.98\\n    area (standard error):                6.802  542.2\\n    smoothness (standard error):          0.002  0.031\\n    compactness (standard error):         0.002  0.135\\n    concavity (standard error):           0.0    0.396\\n    concave points (standard error):      0.0    0.053\\n    symmetry (standard error):            0.008  0.079\\n    fractal dimension (standard error):   0.001  0.03\\n    radius (worst):                       7.93   36.04\\n    texture (worst):                      12.02  49.54\\n    perimeter (worst):                    50.41  251.2\\n    area (worst):                         185.2  4254.0\\n    smoothness (worst):                   0.071  0.223\\n    compactness (worst):                  0.027  1.058\\n    concavity (worst):                    0.0    1.252\\n    concave points (worst):               0.0    0.291\\n    symmetry (worst):                     0.156  0.664\\n    fractal dimension (worst):            0.055  0.208\\n    ===================================== ====== ======\\n\\n    :Missing Attribute Values: None\\n\\n    :Class Distribution: 212 - Malignant, 357 - Benign\\n\\n    :Creator:  Dr. William H. Wolberg, W. Nick Street, Olvi L. Mangasarian\\n\\n    :Donor: Nick Street\\n\\n    :Date: November, 1995\\n\\nThis is a copy of UCI ML Breast Cancer Wisconsin (Diagnostic) datasets.\\nhttps://goo.gl/U2Uwz2\\n\\nFeatures are computed from a digitized image of a fine needle\\naspirate (FNA) of a breast mass.  They describe\\ncharacteristics of the cell nuclei present in the image.\\n\\nSeparating plane described above was obtained using\\nMultisurface Method-Tree (MSM-T) [K. P. Bennett, \"Decision Tree\\nConstruction Via Linear Programming.\" Proceedings of the 4th\\nMidwest Artificial Intelligence and Cognitive Science Society,\\npp. 97-101, 1992], a classification method which uses linear\\nprogramming to construct a decision tree.  Relevant features\\nwere selected using an exhaustive search in the space of 1-4\\nfeatures and 1-3 separating planes.\\n\\nThe actual linear program used to obtain the separating plane\\nin the 3-dimensional space is that described in:\\n[K. P. Bennett and O. L. Mangasarian: \"Robust Linear\\nProgramming Discrimination of Two Linearly Inseparable Sets\",\\nOptimization Methods and Software 1, 1992, 23-34].\\n\\nThis database is also available through the UW CS ftp server:\\n\\nftp ftp.cs.wisc.edu\\ncd math-prog/cpo-dataset/machine-learn/WDBC/\\n\\n.. topic:: References\\n\\n   - W.N. Street, W.H. Wolberg and O.L. Mangasarian. Nuclear feature extraction \\n     for breast tumor diagnosis. IS&T/SPIE 1993 International Symposium on \\n     Electronic Imaging: Science and Technology, volume 1905, pages 861-870,\\n     San Jose, CA, 1993.\\n   - O.L. Mangasarian, W.N. Street and W.H. Wolberg. Breast cancer diagnosis and \\n     prognosis via linear programming. Operations Research, 43(4), pages 570-577, \\n     July-August 1995.\\n   - W.H. Wolberg, W.N. Street, and O.L. Mangasarian. Machine learning techniques\\n     to diagnose breast cancer from fine-needle aspirates. Cancer Letters 77 (1994) \\n     163-171.',\n",
              " 'data': array([[1.799e+01, 1.038e+01, 1.228e+02, ..., 2.654e-01, 4.601e-01,\n",
              "         1.189e-01],\n",
              "        [2.057e+01, 1.777e+01, 1.329e+02, ..., 1.860e-01, 2.750e-01,\n",
              "         8.902e-02],\n",
              "        [1.969e+01, 2.125e+01, 1.300e+02, ..., 2.430e-01, 3.613e-01,\n",
              "         8.758e-02],\n",
              "        ...,\n",
              "        [1.660e+01, 2.808e+01, 1.083e+02, ..., 1.418e-01, 2.218e-01,\n",
              "         7.820e-02],\n",
              "        [2.060e+01, 2.933e+01, 1.401e+02, ..., 2.650e-01, 4.087e-01,\n",
              "         1.240e-01],\n",
              "        [7.760e+00, 2.454e+01, 4.792e+01, ..., 0.000e+00, 2.871e-01,\n",
              "         7.039e-02]]),\n",
              " 'feature_names': array(['mean radius', 'mean texture', 'mean perimeter', 'mean area',\n",
              "        'mean smoothness', 'mean compactness', 'mean concavity',\n",
              "        'mean concave points', 'mean symmetry', 'mean fractal dimension',\n",
              "        'radius error', 'texture error', 'perimeter error', 'area error',\n",
              "        'smoothness error', 'compactness error', 'concavity error',\n",
              "        'concave points error', 'symmetry error',\n",
              "        'fractal dimension error', 'worst radius', 'worst texture',\n",
              "        'worst perimeter', 'worst area', 'worst smoothness',\n",
              "        'worst compactness', 'worst concavity', 'worst concave points',\n",
              "        'worst symmetry', 'worst fractal dimension'], dtype='<U23'),\n",
              " 'filename': '/usr/local/lib/python3.6/dist-packages/sklearn/datasets/data/breast_cancer.csv',\n",
              " 'target': array([0, 0, 0, 0, 0, 0, 0, 0, 0, 0, 0, 0, 0, 0, 0, 0, 0, 0, 0, 1, 1, 1,\n",
              "        0, 0, 0, 0, 0, 0, 0, 0, 0, 0, 0, 0, 0, 0, 0, 1, 0, 0, 0, 0, 0, 0,\n",
              "        0, 0, 1, 0, 1, 1, 1, 1, 1, 0, 0, 1, 0, 0, 1, 1, 1, 1, 0, 1, 0, 0,\n",
              "        1, 1, 1, 1, 0, 1, 0, 0, 1, 0, 1, 0, 0, 1, 1, 1, 0, 0, 1, 0, 0, 0,\n",
              "        1, 1, 1, 0, 1, 1, 0, 0, 1, 1, 1, 0, 0, 1, 1, 1, 1, 0, 1, 1, 0, 1,\n",
              "        1, 1, 1, 1, 1, 1, 1, 0, 0, 0, 1, 0, 0, 1, 1, 1, 0, 0, 1, 0, 1, 0,\n",
              "        0, 1, 0, 0, 1, 1, 0, 1, 1, 0, 1, 1, 1, 1, 0, 1, 1, 1, 1, 1, 1, 1,\n",
              "        1, 1, 0, 1, 1, 1, 1, 0, 0, 1, 0, 1, 1, 0, 0, 1, 1, 0, 0, 1, 1, 1,\n",
              "        1, 0, 1, 1, 0, 0, 0, 1, 0, 1, 0, 1, 1, 1, 0, 1, 1, 0, 0, 1, 0, 0,\n",
              "        0, 0, 1, 0, 0, 0, 1, 0, 1, 0, 1, 1, 0, 1, 0, 0, 0, 0, 1, 1, 0, 0,\n",
              "        1, 1, 1, 0, 1, 1, 1, 1, 1, 0, 0, 1, 1, 0, 1, 1, 0, 0, 1, 0, 1, 1,\n",
              "        1, 1, 0, 1, 1, 1, 1, 1, 0, 1, 0, 0, 0, 0, 0, 0, 0, 0, 0, 0, 0, 0,\n",
              "        0, 0, 1, 1, 1, 1, 1, 1, 0, 1, 0, 1, 1, 0, 1, 1, 0, 1, 0, 0, 1, 1,\n",
              "        1, 1, 1, 1, 1, 1, 1, 1, 1, 1, 1, 0, 1, 1, 0, 1, 0, 1, 1, 1, 1, 1,\n",
              "        1, 1, 1, 1, 1, 1, 1, 1, 1, 0, 1, 1, 1, 0, 1, 0, 1, 1, 1, 1, 0, 0,\n",
              "        0, 1, 1, 1, 1, 0, 1, 0, 1, 0, 1, 1, 1, 0, 1, 1, 1, 1, 1, 1, 1, 0,\n",
              "        0, 0, 1, 1, 1, 1, 1, 1, 1, 1, 1, 1, 1, 0, 0, 1, 0, 0, 0, 1, 0, 0,\n",
              "        1, 1, 1, 1, 1, 0, 1, 1, 1, 1, 1, 0, 1, 1, 1, 0, 1, 1, 0, 0, 1, 1,\n",
              "        1, 1, 1, 1, 0, 1, 1, 1, 1, 1, 1, 1, 0, 1, 1, 1, 1, 1, 0, 1, 1, 0,\n",
              "        1, 1, 1, 1, 1, 1, 1, 1, 1, 1, 1, 1, 0, 1, 0, 0, 1, 0, 1, 1, 1, 1,\n",
              "        1, 0, 1, 1, 0, 1, 0, 1, 1, 0, 1, 0, 1, 1, 1, 1, 1, 1, 1, 1, 0, 0,\n",
              "        1, 1, 1, 1, 1, 1, 0, 1, 1, 1, 1, 1, 1, 1, 1, 1, 1, 0, 1, 1, 1, 1,\n",
              "        1, 1, 1, 0, 1, 0, 1, 1, 0, 1, 1, 1, 1, 1, 0, 0, 1, 0, 1, 0, 1, 1,\n",
              "        1, 1, 1, 0, 1, 1, 0, 1, 0, 1, 0, 0, 1, 1, 1, 0, 1, 1, 1, 1, 1, 1,\n",
              "        1, 1, 1, 1, 1, 0, 1, 0, 0, 1, 1, 1, 1, 1, 1, 1, 1, 1, 1, 1, 1, 1,\n",
              "        1, 1, 1, 1, 1, 1, 1, 1, 1, 1, 1, 1, 0, 0, 0, 0, 0, 0, 1]),\n",
              " 'target_names': array(['malignant', 'benign'], dtype='<U9')}"
            ]
          },
          "metadata": {
            "tags": []
          },
          "execution_count": 34
        }
      ]
    },
    {
      "cell_type": "code",
      "metadata": {
        "id": "8jMMveLtJpTN",
        "colab_type": "code",
        "colab": {}
      },
      "source": [
        "data = pd.DataFrame(breast_cancer.data, columns=breast_cancer.feature_names)"
      ],
      "execution_count": 0,
      "outputs": []
    },
    {
      "cell_type": "code",
      "metadata": {
        "id": "2UlyTzPrJ-6S",
        "colab_type": "code",
        "colab": {}
      },
      "source": [
        "data['class'] = breast_cancer.target"
      ],
      "execution_count": 0,
      "outputs": []
    },
    {
      "cell_type": "code",
      "metadata": {
        "id": "72S-APuZKBch",
        "colab_type": "code",
        "outputId": "5c716374-1250-42c1-b75a-d3b1753ae58b",
        "colab": {
          "base_uri": "https://localhost:8080/"
        }
      },
      "source": [
        "data.head()"
      ],
      "execution_count": 0,
      "outputs": [
        {
          "output_type": "execute_result",
          "data": {
            "text/html": [
              "<div>\n",
              "<style scoped>\n",
              "    .dataframe tbody tr th:only-of-type {\n",
              "        vertical-align: middle;\n",
              "    }\n",
              "\n",
              "    .dataframe tbody tr th {\n",
              "        vertical-align: top;\n",
              "    }\n",
              "\n",
              "    .dataframe thead th {\n",
              "        text-align: right;\n",
              "    }\n",
              "</style>\n",
              "<table border=\"1\" class=\"dataframe\">\n",
              "  <thead>\n",
              "    <tr style=\"text-align: right;\">\n",
              "      <th></th>\n",
              "      <th>mean radius</th>\n",
              "      <th>mean texture</th>\n",
              "      <th>mean perimeter</th>\n",
              "      <th>mean area</th>\n",
              "      <th>mean smoothness</th>\n",
              "      <th>mean compactness</th>\n",
              "      <th>mean concavity</th>\n",
              "      <th>mean concave points</th>\n",
              "      <th>mean symmetry</th>\n",
              "      <th>mean fractal dimension</th>\n",
              "      <th>radius error</th>\n",
              "      <th>texture error</th>\n",
              "      <th>perimeter error</th>\n",
              "      <th>area error</th>\n",
              "      <th>smoothness error</th>\n",
              "      <th>compactness error</th>\n",
              "      <th>concavity error</th>\n",
              "      <th>concave points error</th>\n",
              "      <th>symmetry error</th>\n",
              "      <th>fractal dimension error</th>\n",
              "      <th>worst radius</th>\n",
              "      <th>worst texture</th>\n",
              "      <th>worst perimeter</th>\n",
              "      <th>worst area</th>\n",
              "      <th>worst smoothness</th>\n",
              "      <th>worst compactness</th>\n",
              "      <th>worst concavity</th>\n",
              "      <th>worst concave points</th>\n",
              "      <th>worst symmetry</th>\n",
              "      <th>worst fractal dimension</th>\n",
              "      <th>class</th>\n",
              "    </tr>\n",
              "  </thead>\n",
              "  <tbody>\n",
              "    <tr>\n",
              "      <th>0</th>\n",
              "      <td>17.99</td>\n",
              "      <td>10.38</td>\n",
              "      <td>122.80</td>\n",
              "      <td>1001.0</td>\n",
              "      <td>0.11840</td>\n",
              "      <td>0.27760</td>\n",
              "      <td>0.3001</td>\n",
              "      <td>0.14710</td>\n",
              "      <td>0.2419</td>\n",
              "      <td>0.07871</td>\n",
              "      <td>1.0950</td>\n",
              "      <td>0.9053</td>\n",
              "      <td>8.589</td>\n",
              "      <td>153.40</td>\n",
              "      <td>0.006399</td>\n",
              "      <td>0.04904</td>\n",
              "      <td>0.05373</td>\n",
              "      <td>0.01587</td>\n",
              "      <td>0.03003</td>\n",
              "      <td>0.006193</td>\n",
              "      <td>25.38</td>\n",
              "      <td>17.33</td>\n",
              "      <td>184.60</td>\n",
              "      <td>2019.0</td>\n",
              "      <td>0.1622</td>\n",
              "      <td>0.6656</td>\n",
              "      <td>0.7119</td>\n",
              "      <td>0.2654</td>\n",
              "      <td>0.4601</td>\n",
              "      <td>0.11890</td>\n",
              "      <td>0</td>\n",
              "    </tr>\n",
              "    <tr>\n",
              "      <th>1</th>\n",
              "      <td>20.57</td>\n",
              "      <td>17.77</td>\n",
              "      <td>132.90</td>\n",
              "      <td>1326.0</td>\n",
              "      <td>0.08474</td>\n",
              "      <td>0.07864</td>\n",
              "      <td>0.0869</td>\n",
              "      <td>0.07017</td>\n",
              "      <td>0.1812</td>\n",
              "      <td>0.05667</td>\n",
              "      <td>0.5435</td>\n",
              "      <td>0.7339</td>\n",
              "      <td>3.398</td>\n",
              "      <td>74.08</td>\n",
              "      <td>0.005225</td>\n",
              "      <td>0.01308</td>\n",
              "      <td>0.01860</td>\n",
              "      <td>0.01340</td>\n",
              "      <td>0.01389</td>\n",
              "      <td>0.003532</td>\n",
              "      <td>24.99</td>\n",
              "      <td>23.41</td>\n",
              "      <td>158.80</td>\n",
              "      <td>1956.0</td>\n",
              "      <td>0.1238</td>\n",
              "      <td>0.1866</td>\n",
              "      <td>0.2416</td>\n",
              "      <td>0.1860</td>\n",
              "      <td>0.2750</td>\n",
              "      <td>0.08902</td>\n",
              "      <td>0</td>\n",
              "    </tr>\n",
              "    <tr>\n",
              "      <th>2</th>\n",
              "      <td>19.69</td>\n",
              "      <td>21.25</td>\n",
              "      <td>130.00</td>\n",
              "      <td>1203.0</td>\n",
              "      <td>0.10960</td>\n",
              "      <td>0.15990</td>\n",
              "      <td>0.1974</td>\n",
              "      <td>0.12790</td>\n",
              "      <td>0.2069</td>\n",
              "      <td>0.05999</td>\n",
              "      <td>0.7456</td>\n",
              "      <td>0.7869</td>\n",
              "      <td>4.585</td>\n",
              "      <td>94.03</td>\n",
              "      <td>0.006150</td>\n",
              "      <td>0.04006</td>\n",
              "      <td>0.03832</td>\n",
              "      <td>0.02058</td>\n",
              "      <td>0.02250</td>\n",
              "      <td>0.004571</td>\n",
              "      <td>23.57</td>\n",
              "      <td>25.53</td>\n",
              "      <td>152.50</td>\n",
              "      <td>1709.0</td>\n",
              "      <td>0.1444</td>\n",
              "      <td>0.4245</td>\n",
              "      <td>0.4504</td>\n",
              "      <td>0.2430</td>\n",
              "      <td>0.3613</td>\n",
              "      <td>0.08758</td>\n",
              "      <td>0</td>\n",
              "    </tr>\n",
              "    <tr>\n",
              "      <th>3</th>\n",
              "      <td>11.42</td>\n",
              "      <td>20.38</td>\n",
              "      <td>77.58</td>\n",
              "      <td>386.1</td>\n",
              "      <td>0.14250</td>\n",
              "      <td>0.28390</td>\n",
              "      <td>0.2414</td>\n",
              "      <td>0.10520</td>\n",
              "      <td>0.2597</td>\n",
              "      <td>0.09744</td>\n",
              "      <td>0.4956</td>\n",
              "      <td>1.1560</td>\n",
              "      <td>3.445</td>\n",
              "      <td>27.23</td>\n",
              "      <td>0.009110</td>\n",
              "      <td>0.07458</td>\n",
              "      <td>0.05661</td>\n",
              "      <td>0.01867</td>\n",
              "      <td>0.05963</td>\n",
              "      <td>0.009208</td>\n",
              "      <td>14.91</td>\n",
              "      <td>26.50</td>\n",
              "      <td>98.87</td>\n",
              "      <td>567.7</td>\n",
              "      <td>0.2098</td>\n",
              "      <td>0.8663</td>\n",
              "      <td>0.6869</td>\n",
              "      <td>0.2575</td>\n",
              "      <td>0.6638</td>\n",
              "      <td>0.17300</td>\n",
              "      <td>0</td>\n",
              "    </tr>\n",
              "    <tr>\n",
              "      <th>4</th>\n",
              "      <td>20.29</td>\n",
              "      <td>14.34</td>\n",
              "      <td>135.10</td>\n",
              "      <td>1297.0</td>\n",
              "      <td>0.10030</td>\n",
              "      <td>0.13280</td>\n",
              "      <td>0.1980</td>\n",
              "      <td>0.10430</td>\n",
              "      <td>0.1809</td>\n",
              "      <td>0.05883</td>\n",
              "      <td>0.7572</td>\n",
              "      <td>0.7813</td>\n",
              "      <td>5.438</td>\n",
              "      <td>94.44</td>\n",
              "      <td>0.011490</td>\n",
              "      <td>0.02461</td>\n",
              "      <td>0.05688</td>\n",
              "      <td>0.01885</td>\n",
              "      <td>0.01756</td>\n",
              "      <td>0.005115</td>\n",
              "      <td>22.54</td>\n",
              "      <td>16.67</td>\n",
              "      <td>152.20</td>\n",
              "      <td>1575.0</td>\n",
              "      <td>0.1374</td>\n",
              "      <td>0.2050</td>\n",
              "      <td>0.4000</td>\n",
              "      <td>0.1625</td>\n",
              "      <td>0.2364</td>\n",
              "      <td>0.07678</td>\n",
              "      <td>0</td>\n",
              "    </tr>\n",
              "  </tbody>\n",
              "</table>\n",
              "</div>"
            ],
            "text/plain": [
              "   mean radius  mean texture  ...  worst fractal dimension  class\n",
              "0        17.99         10.38  ...                  0.11890      0\n",
              "1        20.57         17.77  ...                  0.08902      0\n",
              "2        19.69         21.25  ...                  0.08758      0\n",
              "3        11.42         20.38  ...                  0.17300      0\n",
              "4        20.29         14.34  ...                  0.07678      0\n",
              "\n",
              "[5 rows x 31 columns]"
            ]
          },
          "metadata": {
            "tags": []
          },
          "execution_count": 37
        }
      ]
    },
    {
      "cell_type": "code",
      "metadata": {
        "id": "FVTYdDfVKCEt",
        "colab_type": "code",
        "outputId": "a406e09e-24b3-42e4-acea-1c3f5f43ba1f",
        "colab": {
          "base_uri": "https://localhost:8080/"
        }
      },
      "source": [
        "data.describe()"
      ],
      "execution_count": 0,
      "outputs": [
        {
          "output_type": "execute_result",
          "data": {
            "text/html": [
              "<div>\n",
              "<style scoped>\n",
              "    .dataframe tbody tr th:only-of-type {\n",
              "        vertical-align: middle;\n",
              "    }\n",
              "\n",
              "    .dataframe tbody tr th {\n",
              "        vertical-align: top;\n",
              "    }\n",
              "\n",
              "    .dataframe thead th {\n",
              "        text-align: right;\n",
              "    }\n",
              "</style>\n",
              "<table border=\"1\" class=\"dataframe\">\n",
              "  <thead>\n",
              "    <tr style=\"text-align: right;\">\n",
              "      <th></th>\n",
              "      <th>mean radius</th>\n",
              "      <th>mean texture</th>\n",
              "      <th>mean perimeter</th>\n",
              "      <th>mean area</th>\n",
              "      <th>mean smoothness</th>\n",
              "      <th>mean compactness</th>\n",
              "      <th>mean concavity</th>\n",
              "      <th>mean concave points</th>\n",
              "      <th>mean symmetry</th>\n",
              "      <th>mean fractal dimension</th>\n",
              "      <th>radius error</th>\n",
              "      <th>texture error</th>\n",
              "      <th>perimeter error</th>\n",
              "      <th>area error</th>\n",
              "      <th>smoothness error</th>\n",
              "      <th>compactness error</th>\n",
              "      <th>concavity error</th>\n",
              "      <th>concave points error</th>\n",
              "      <th>symmetry error</th>\n",
              "      <th>fractal dimension error</th>\n",
              "      <th>worst radius</th>\n",
              "      <th>worst texture</th>\n",
              "      <th>worst perimeter</th>\n",
              "      <th>worst area</th>\n",
              "      <th>worst smoothness</th>\n",
              "      <th>worst compactness</th>\n",
              "      <th>worst concavity</th>\n",
              "      <th>worst concave points</th>\n",
              "      <th>worst symmetry</th>\n",
              "      <th>worst fractal dimension</th>\n",
              "      <th>class</th>\n",
              "    </tr>\n",
              "  </thead>\n",
              "  <tbody>\n",
              "    <tr>\n",
              "      <th>count</th>\n",
              "      <td>569.000000</td>\n",
              "      <td>569.000000</td>\n",
              "      <td>569.000000</td>\n",
              "      <td>569.000000</td>\n",
              "      <td>569.000000</td>\n",
              "      <td>569.000000</td>\n",
              "      <td>569.000000</td>\n",
              "      <td>569.000000</td>\n",
              "      <td>569.000000</td>\n",
              "      <td>569.000000</td>\n",
              "      <td>569.000000</td>\n",
              "      <td>569.000000</td>\n",
              "      <td>569.000000</td>\n",
              "      <td>569.000000</td>\n",
              "      <td>569.000000</td>\n",
              "      <td>569.000000</td>\n",
              "      <td>569.000000</td>\n",
              "      <td>569.000000</td>\n",
              "      <td>569.000000</td>\n",
              "      <td>569.000000</td>\n",
              "      <td>569.000000</td>\n",
              "      <td>569.000000</td>\n",
              "      <td>569.000000</td>\n",
              "      <td>569.000000</td>\n",
              "      <td>569.000000</td>\n",
              "      <td>569.000000</td>\n",
              "      <td>569.000000</td>\n",
              "      <td>569.000000</td>\n",
              "      <td>569.000000</td>\n",
              "      <td>569.000000</td>\n",
              "      <td>569.000000</td>\n",
              "    </tr>\n",
              "    <tr>\n",
              "      <th>mean</th>\n",
              "      <td>14.127292</td>\n",
              "      <td>19.289649</td>\n",
              "      <td>91.969033</td>\n",
              "      <td>654.889104</td>\n",
              "      <td>0.096360</td>\n",
              "      <td>0.104341</td>\n",
              "      <td>0.088799</td>\n",
              "      <td>0.048919</td>\n",
              "      <td>0.181162</td>\n",
              "      <td>0.062798</td>\n",
              "      <td>0.405172</td>\n",
              "      <td>1.216853</td>\n",
              "      <td>2.866059</td>\n",
              "      <td>40.337079</td>\n",
              "      <td>0.007041</td>\n",
              "      <td>0.025478</td>\n",
              "      <td>0.031894</td>\n",
              "      <td>0.011796</td>\n",
              "      <td>0.020542</td>\n",
              "      <td>0.003795</td>\n",
              "      <td>16.269190</td>\n",
              "      <td>25.677223</td>\n",
              "      <td>107.261213</td>\n",
              "      <td>880.583128</td>\n",
              "      <td>0.132369</td>\n",
              "      <td>0.254265</td>\n",
              "      <td>0.272188</td>\n",
              "      <td>0.114606</td>\n",
              "      <td>0.290076</td>\n",
              "      <td>0.083946</td>\n",
              "      <td>0.627417</td>\n",
              "    </tr>\n",
              "    <tr>\n",
              "      <th>std</th>\n",
              "      <td>3.524049</td>\n",
              "      <td>4.301036</td>\n",
              "      <td>24.298981</td>\n",
              "      <td>351.914129</td>\n",
              "      <td>0.014064</td>\n",
              "      <td>0.052813</td>\n",
              "      <td>0.079720</td>\n",
              "      <td>0.038803</td>\n",
              "      <td>0.027414</td>\n",
              "      <td>0.007060</td>\n",
              "      <td>0.277313</td>\n",
              "      <td>0.551648</td>\n",
              "      <td>2.021855</td>\n",
              "      <td>45.491006</td>\n",
              "      <td>0.003003</td>\n",
              "      <td>0.017908</td>\n",
              "      <td>0.030186</td>\n",
              "      <td>0.006170</td>\n",
              "      <td>0.008266</td>\n",
              "      <td>0.002646</td>\n",
              "      <td>4.833242</td>\n",
              "      <td>6.146258</td>\n",
              "      <td>33.602542</td>\n",
              "      <td>569.356993</td>\n",
              "      <td>0.022832</td>\n",
              "      <td>0.157336</td>\n",
              "      <td>0.208624</td>\n",
              "      <td>0.065732</td>\n",
              "      <td>0.061867</td>\n",
              "      <td>0.018061</td>\n",
              "      <td>0.483918</td>\n",
              "    </tr>\n",
              "    <tr>\n",
              "      <th>min</th>\n",
              "      <td>6.981000</td>\n",
              "      <td>9.710000</td>\n",
              "      <td>43.790000</td>\n",
              "      <td>143.500000</td>\n",
              "      <td>0.052630</td>\n",
              "      <td>0.019380</td>\n",
              "      <td>0.000000</td>\n",
              "      <td>0.000000</td>\n",
              "      <td>0.106000</td>\n",
              "      <td>0.049960</td>\n",
              "      <td>0.111500</td>\n",
              "      <td>0.360200</td>\n",
              "      <td>0.757000</td>\n",
              "      <td>6.802000</td>\n",
              "      <td>0.001713</td>\n",
              "      <td>0.002252</td>\n",
              "      <td>0.000000</td>\n",
              "      <td>0.000000</td>\n",
              "      <td>0.007882</td>\n",
              "      <td>0.000895</td>\n",
              "      <td>7.930000</td>\n",
              "      <td>12.020000</td>\n",
              "      <td>50.410000</td>\n",
              "      <td>185.200000</td>\n",
              "      <td>0.071170</td>\n",
              "      <td>0.027290</td>\n",
              "      <td>0.000000</td>\n",
              "      <td>0.000000</td>\n",
              "      <td>0.156500</td>\n",
              "      <td>0.055040</td>\n",
              "      <td>0.000000</td>\n",
              "    </tr>\n",
              "    <tr>\n",
              "      <th>25%</th>\n",
              "      <td>11.700000</td>\n",
              "      <td>16.170000</td>\n",
              "      <td>75.170000</td>\n",
              "      <td>420.300000</td>\n",
              "      <td>0.086370</td>\n",
              "      <td>0.064920</td>\n",
              "      <td>0.029560</td>\n",
              "      <td>0.020310</td>\n",
              "      <td>0.161900</td>\n",
              "      <td>0.057700</td>\n",
              "      <td>0.232400</td>\n",
              "      <td>0.833900</td>\n",
              "      <td>1.606000</td>\n",
              "      <td>17.850000</td>\n",
              "      <td>0.005169</td>\n",
              "      <td>0.013080</td>\n",
              "      <td>0.015090</td>\n",
              "      <td>0.007638</td>\n",
              "      <td>0.015160</td>\n",
              "      <td>0.002248</td>\n",
              "      <td>13.010000</td>\n",
              "      <td>21.080000</td>\n",
              "      <td>84.110000</td>\n",
              "      <td>515.300000</td>\n",
              "      <td>0.116600</td>\n",
              "      <td>0.147200</td>\n",
              "      <td>0.114500</td>\n",
              "      <td>0.064930</td>\n",
              "      <td>0.250400</td>\n",
              "      <td>0.071460</td>\n",
              "      <td>0.000000</td>\n",
              "    </tr>\n",
              "    <tr>\n",
              "      <th>50%</th>\n",
              "      <td>13.370000</td>\n",
              "      <td>18.840000</td>\n",
              "      <td>86.240000</td>\n",
              "      <td>551.100000</td>\n",
              "      <td>0.095870</td>\n",
              "      <td>0.092630</td>\n",
              "      <td>0.061540</td>\n",
              "      <td>0.033500</td>\n",
              "      <td>0.179200</td>\n",
              "      <td>0.061540</td>\n",
              "      <td>0.324200</td>\n",
              "      <td>1.108000</td>\n",
              "      <td>2.287000</td>\n",
              "      <td>24.530000</td>\n",
              "      <td>0.006380</td>\n",
              "      <td>0.020450</td>\n",
              "      <td>0.025890</td>\n",
              "      <td>0.010930</td>\n",
              "      <td>0.018730</td>\n",
              "      <td>0.003187</td>\n",
              "      <td>14.970000</td>\n",
              "      <td>25.410000</td>\n",
              "      <td>97.660000</td>\n",
              "      <td>686.500000</td>\n",
              "      <td>0.131300</td>\n",
              "      <td>0.211900</td>\n",
              "      <td>0.226700</td>\n",
              "      <td>0.099930</td>\n",
              "      <td>0.282200</td>\n",
              "      <td>0.080040</td>\n",
              "      <td>1.000000</td>\n",
              "    </tr>\n",
              "    <tr>\n",
              "      <th>75%</th>\n",
              "      <td>15.780000</td>\n",
              "      <td>21.800000</td>\n",
              "      <td>104.100000</td>\n",
              "      <td>782.700000</td>\n",
              "      <td>0.105300</td>\n",
              "      <td>0.130400</td>\n",
              "      <td>0.130700</td>\n",
              "      <td>0.074000</td>\n",
              "      <td>0.195700</td>\n",
              "      <td>0.066120</td>\n",
              "      <td>0.478900</td>\n",
              "      <td>1.474000</td>\n",
              "      <td>3.357000</td>\n",
              "      <td>45.190000</td>\n",
              "      <td>0.008146</td>\n",
              "      <td>0.032450</td>\n",
              "      <td>0.042050</td>\n",
              "      <td>0.014710</td>\n",
              "      <td>0.023480</td>\n",
              "      <td>0.004558</td>\n",
              "      <td>18.790000</td>\n",
              "      <td>29.720000</td>\n",
              "      <td>125.400000</td>\n",
              "      <td>1084.000000</td>\n",
              "      <td>0.146000</td>\n",
              "      <td>0.339100</td>\n",
              "      <td>0.382900</td>\n",
              "      <td>0.161400</td>\n",
              "      <td>0.317900</td>\n",
              "      <td>0.092080</td>\n",
              "      <td>1.000000</td>\n",
              "    </tr>\n",
              "    <tr>\n",
              "      <th>max</th>\n",
              "      <td>28.110000</td>\n",
              "      <td>39.280000</td>\n",
              "      <td>188.500000</td>\n",
              "      <td>2501.000000</td>\n",
              "      <td>0.163400</td>\n",
              "      <td>0.345400</td>\n",
              "      <td>0.426800</td>\n",
              "      <td>0.201200</td>\n",
              "      <td>0.304000</td>\n",
              "      <td>0.097440</td>\n",
              "      <td>2.873000</td>\n",
              "      <td>4.885000</td>\n",
              "      <td>21.980000</td>\n",
              "      <td>542.200000</td>\n",
              "      <td>0.031130</td>\n",
              "      <td>0.135400</td>\n",
              "      <td>0.396000</td>\n",
              "      <td>0.052790</td>\n",
              "      <td>0.078950</td>\n",
              "      <td>0.029840</td>\n",
              "      <td>36.040000</td>\n",
              "      <td>49.540000</td>\n",
              "      <td>251.200000</td>\n",
              "      <td>4254.000000</td>\n",
              "      <td>0.222600</td>\n",
              "      <td>1.058000</td>\n",
              "      <td>1.252000</td>\n",
              "      <td>0.291000</td>\n",
              "      <td>0.663800</td>\n",
              "      <td>0.207500</td>\n",
              "      <td>1.000000</td>\n",
              "    </tr>\n",
              "  </tbody>\n",
              "</table>\n",
              "</div>"
            ],
            "text/plain": [
              "       mean radius  mean texture  ...  worst fractal dimension       class\n",
              "count   569.000000    569.000000  ...               569.000000  569.000000\n",
              "mean     14.127292     19.289649  ...                 0.083946    0.627417\n",
              "std       3.524049      4.301036  ...                 0.018061    0.483918\n",
              "min       6.981000      9.710000  ...                 0.055040    0.000000\n",
              "25%      11.700000     16.170000  ...                 0.071460    0.000000\n",
              "50%      13.370000     18.840000  ...                 0.080040    1.000000\n",
              "75%      15.780000     21.800000  ...                 0.092080    1.000000\n",
              "max      28.110000     39.280000  ...                 0.207500    1.000000\n",
              "\n",
              "[8 rows x 31 columns]"
            ]
          },
          "metadata": {
            "tags": []
          },
          "execution_count": 38
        }
      ]
    },
    {
      "cell_type": "code",
      "metadata": {
        "id": "Ms4OsguSKKVS",
        "colab_type": "code",
        "outputId": "2c1152d4-a465-4a5f-9c05-2efd920d8dc4",
        "colab": {
          "base_uri": "https://localhost:8080/"
        }
      },
      "source": [
        "data['class'].value_counts()"
      ],
      "execution_count": 0,
      "outputs": [
        {
          "output_type": "execute_result",
          "data": {
            "text/plain": [
              "1    357\n",
              "0    212\n",
              "Name: class, dtype: int64"
            ]
          },
          "metadata": {
            "tags": []
          },
          "execution_count": 39
        }
      ]
    },
    {
      "cell_type": "code",
      "metadata": {
        "id": "kFoYg0KmKRAL",
        "colab_type": "code",
        "outputId": "cc67dd8d-ad9b-4ecc-b253-91a93e173c3f",
        "colab": {
          "base_uri": "https://localhost:8080/"
        }
      },
      "source": [
        "breast_cancer.target_names"
      ],
      "execution_count": 0,
      "outputs": [
        {
          "output_type": "execute_result",
          "data": {
            "text/plain": [
              "array(['malignant', 'benign'], dtype='<U9')"
            ]
          },
          "metadata": {
            "tags": []
          },
          "execution_count": 40
        }
      ]
    },
    {
      "cell_type": "code",
      "metadata": {
        "id": "wgFdaun5KW9P",
        "colab_type": "code",
        "outputId": "aadb9c1f-4cd5-46bb-e2e7-c38a568d3c16",
        "colab": {
          "base_uri": "https://localhost:8080/"
        }
      },
      "source": [
        "data.groupby('class').mean()"
      ],
      "execution_count": 0,
      "outputs": [
        {
          "output_type": "execute_result",
          "data": {
            "text/html": [
              "<div>\n",
              "<style scoped>\n",
              "    .dataframe tbody tr th:only-of-type {\n",
              "        vertical-align: middle;\n",
              "    }\n",
              "\n",
              "    .dataframe tbody tr th {\n",
              "        vertical-align: top;\n",
              "    }\n",
              "\n",
              "    .dataframe thead th {\n",
              "        text-align: right;\n",
              "    }\n",
              "</style>\n",
              "<table border=\"1\" class=\"dataframe\">\n",
              "  <thead>\n",
              "    <tr style=\"text-align: right;\">\n",
              "      <th></th>\n",
              "      <th>mean radius</th>\n",
              "      <th>mean texture</th>\n",
              "      <th>mean perimeter</th>\n",
              "      <th>mean area</th>\n",
              "      <th>mean smoothness</th>\n",
              "      <th>mean compactness</th>\n",
              "      <th>mean concavity</th>\n",
              "      <th>mean concave points</th>\n",
              "      <th>mean symmetry</th>\n",
              "      <th>mean fractal dimension</th>\n",
              "      <th>radius error</th>\n",
              "      <th>texture error</th>\n",
              "      <th>perimeter error</th>\n",
              "      <th>area error</th>\n",
              "      <th>smoothness error</th>\n",
              "      <th>compactness error</th>\n",
              "      <th>concavity error</th>\n",
              "      <th>concave points error</th>\n",
              "      <th>symmetry error</th>\n",
              "      <th>fractal dimension error</th>\n",
              "      <th>worst radius</th>\n",
              "      <th>worst texture</th>\n",
              "      <th>worst perimeter</th>\n",
              "      <th>worst area</th>\n",
              "      <th>worst smoothness</th>\n",
              "      <th>worst compactness</th>\n",
              "      <th>worst concavity</th>\n",
              "      <th>worst concave points</th>\n",
              "      <th>worst symmetry</th>\n",
              "      <th>worst fractal dimension</th>\n",
              "    </tr>\n",
              "    <tr>\n",
              "      <th>class</th>\n",
              "      <th></th>\n",
              "      <th></th>\n",
              "      <th></th>\n",
              "      <th></th>\n",
              "      <th></th>\n",
              "      <th></th>\n",
              "      <th></th>\n",
              "      <th></th>\n",
              "      <th></th>\n",
              "      <th></th>\n",
              "      <th></th>\n",
              "      <th></th>\n",
              "      <th></th>\n",
              "      <th></th>\n",
              "      <th></th>\n",
              "      <th></th>\n",
              "      <th></th>\n",
              "      <th></th>\n",
              "      <th></th>\n",
              "      <th></th>\n",
              "      <th></th>\n",
              "      <th></th>\n",
              "      <th></th>\n",
              "      <th></th>\n",
              "      <th></th>\n",
              "      <th></th>\n",
              "      <th></th>\n",
              "      <th></th>\n",
              "      <th></th>\n",
              "      <th></th>\n",
              "    </tr>\n",
              "  </thead>\n",
              "  <tbody>\n",
              "    <tr>\n",
              "      <th>0</th>\n",
              "      <td>17.462830</td>\n",
              "      <td>21.604906</td>\n",
              "      <td>115.365377</td>\n",
              "      <td>978.376415</td>\n",
              "      <td>0.102898</td>\n",
              "      <td>0.145188</td>\n",
              "      <td>0.160775</td>\n",
              "      <td>0.087990</td>\n",
              "      <td>0.192909</td>\n",
              "      <td>0.062680</td>\n",
              "      <td>0.609083</td>\n",
              "      <td>1.210915</td>\n",
              "      <td>4.323929</td>\n",
              "      <td>72.672406</td>\n",
              "      <td>0.006780</td>\n",
              "      <td>0.032281</td>\n",
              "      <td>0.041824</td>\n",
              "      <td>0.015060</td>\n",
              "      <td>0.020472</td>\n",
              "      <td>0.004062</td>\n",
              "      <td>21.134811</td>\n",
              "      <td>29.318208</td>\n",
              "      <td>141.370330</td>\n",
              "      <td>1422.286321</td>\n",
              "      <td>0.144845</td>\n",
              "      <td>0.374824</td>\n",
              "      <td>0.450606</td>\n",
              "      <td>0.182237</td>\n",
              "      <td>0.323468</td>\n",
              "      <td>0.091530</td>\n",
              "    </tr>\n",
              "    <tr>\n",
              "      <th>1</th>\n",
              "      <td>12.146524</td>\n",
              "      <td>17.914762</td>\n",
              "      <td>78.075406</td>\n",
              "      <td>462.790196</td>\n",
              "      <td>0.092478</td>\n",
              "      <td>0.080085</td>\n",
              "      <td>0.046058</td>\n",
              "      <td>0.025717</td>\n",
              "      <td>0.174186</td>\n",
              "      <td>0.062867</td>\n",
              "      <td>0.284082</td>\n",
              "      <td>1.220380</td>\n",
              "      <td>2.000321</td>\n",
              "      <td>21.135148</td>\n",
              "      <td>0.007196</td>\n",
              "      <td>0.021438</td>\n",
              "      <td>0.025997</td>\n",
              "      <td>0.009858</td>\n",
              "      <td>0.020584</td>\n",
              "      <td>0.003636</td>\n",
              "      <td>13.379801</td>\n",
              "      <td>23.515070</td>\n",
              "      <td>87.005938</td>\n",
              "      <td>558.899440</td>\n",
              "      <td>0.124959</td>\n",
              "      <td>0.182673</td>\n",
              "      <td>0.166238</td>\n",
              "      <td>0.074444</td>\n",
              "      <td>0.270246</td>\n",
              "      <td>0.079442</td>\n",
              "    </tr>\n",
              "  </tbody>\n",
              "</table>\n",
              "</div>"
            ],
            "text/plain": [
              "       mean radius  mean texture  ...  worst symmetry  worst fractal dimension\n",
              "class                             ...                                         \n",
              "0        17.462830     21.604906  ...        0.323468                 0.091530\n",
              "1        12.146524     17.914762  ...        0.270246                 0.079442\n",
              "\n",
              "[2 rows x 30 columns]"
            ]
          },
          "metadata": {
            "tags": []
          },
          "execution_count": 41
        }
      ]
    },
    {
      "cell_type": "code",
      "metadata": {
        "id": "9X_ZWLwCKdLt",
        "colab_type": "code",
        "colab": {}
      },
      "source": [
        ""
      ],
      "execution_count": 0,
      "outputs": []
    },
    {
      "cell_type": "markdown",
      "metadata": {
        "id": "cLykHjbhLNcn",
        "colab_type": "text"
      },
      "source": [
        "# Test Train Split"
      ]
    },
    {
      "cell_type": "code",
      "metadata": {
        "id": "zP-K0LcULPb3",
        "colab_type": "code",
        "colab": {}
      },
      "source": [
        "from sklearn.model_selection import train_test_split"
      ],
      "execution_count": 0,
      "outputs": []
    },
    {
      "cell_type": "code",
      "metadata": {
        "id": "lb249Zp9LWOc",
        "colab_type": "code",
        "colab": {}
      },
      "source": [
        "X = data.drop('class', axis=1)\n",
        "Y = data['class']"
      ],
      "execution_count": 0,
      "outputs": []
    },
    {
      "cell_type": "code",
      "metadata": {
        "id": "N8sd4mDuLbj-",
        "colab_type": "code",
        "colab": {}
      },
      "source": [
        "X_train, X_test, Y_train, Y_test = train_test_split(X, Y)"
      ],
      "execution_count": 0,
      "outputs": []
    },
    {
      "cell_type": "code",
      "metadata": {
        "id": "-2woUpa0LiZt",
        "colab_type": "code",
        "outputId": "d1cc59da-ad2f-48e4-d120-6d723977712a",
        "colab": {
          "base_uri": "https://localhost:8080/",
          "height": 34
        }
      },
      "source": [
        "X.shape, X_train.shape, X_test.shape"
      ],
      "execution_count": 0,
      "outputs": [
        {
          "output_type": "execute_result",
          "data": {
            "text/plain": [
              "((569, 30), (426, 30), (143, 30))"
            ]
          },
          "metadata": {
            "tags": []
          },
          "execution_count": 45
        }
      ]
    },
    {
      "cell_type": "code",
      "metadata": {
        "id": "mfNI9egFLl2h",
        "colab_type": "code",
        "colab": {}
      },
      "source": [
        "X_train, X_test, Y_train, Y_test = train_test_split(X, Y, test_size=0.1)"
      ],
      "execution_count": 0,
      "outputs": []
    },
    {
      "cell_type": "code",
      "metadata": {
        "id": "PwkfyuzaLuEd",
        "colab_type": "code",
        "outputId": "51d8f6f6-8ca9-4e61-dbf0-6172decb7d67",
        "colab": {
          "base_uri": "https://localhost:8080/",
          "height": 34
        }
      },
      "source": [
        "Y.mean(), Y_train.mean(), Y_test.mean()"
      ],
      "execution_count": 0,
      "outputs": [
        {
          "output_type": "execute_result",
          "data": {
            "text/plain": [
              "(0.6274165202108963, 0.62890625, 0.6140350877192983)"
            ]
          },
          "metadata": {
            "tags": []
          },
          "execution_count": 47
        }
      ]
    },
    {
      "cell_type": "code",
      "metadata": {
        "id": "qsPXfzSSL3d6",
        "colab_type": "code",
        "colab": {}
      },
      "source": [
        "X_train, X_test, Y_train, Y_test = train_test_split(X, Y, test_size=0.1, stratify = Y)"
      ],
      "execution_count": 0,
      "outputs": []
    },
    {
      "cell_type": "code",
      "metadata": {
        "id": "0-ip4ffhMJxq",
        "colab_type": "code",
        "outputId": "6c73f093-dcad-4027-ff36-de0d57445881",
        "colab": {
          "base_uri": "https://localhost:8080/",
          "height": 1000
        }
      },
      "source": [
        "X.mean(), X_train.mean(), X_test.mean()"
      ],
      "execution_count": 0,
      "outputs": [
        {
          "output_type": "execute_result",
          "data": {
            "text/plain": [
              "(mean radius                 14.127292\n",
              " mean texture                19.289649\n",
              " mean perimeter              91.969033\n",
              " mean area                  654.889104\n",
              " mean smoothness              0.096360\n",
              " mean compactness             0.104341\n",
              " mean concavity               0.088799\n",
              " mean concave points          0.048919\n",
              " mean symmetry                0.181162\n",
              " mean fractal dimension       0.062798\n",
              " radius error                 0.405172\n",
              " texture error                1.216853\n",
              " perimeter error              2.866059\n",
              " area error                  40.337079\n",
              " smoothness error             0.007041\n",
              " compactness error            0.025478\n",
              " concavity error              0.031894\n",
              " concave points error         0.011796\n",
              " symmetry error               0.020542\n",
              " fractal dimension error      0.003795\n",
              " worst radius                16.269190\n",
              " worst texture               25.677223\n",
              " worst perimeter            107.261213\n",
              " worst area                 880.583128\n",
              " worst smoothness             0.132369\n",
              " worst compactness            0.254265\n",
              " worst concavity              0.272188\n",
              " worst concave points         0.114606\n",
              " worst symmetry               0.290076\n",
              " worst fractal dimension      0.083946\n",
              " dtype: float64, mean radius                 14.146383\n",
              " mean texture                19.384707\n",
              " mean perimeter              92.110547\n",
              " mean area                  657.452344\n",
              " mean smoothness              0.096284\n",
              " mean compactness             0.104362\n",
              " mean concavity               0.089325\n",
              " mean concave points          0.049084\n",
              " mean symmetry                0.180873\n",
              " mean fractal dimension       0.062697\n",
              " radius error                 0.408437\n",
              " texture error                1.218661\n",
              " perimeter error              2.881918\n",
              " area error                  40.906477\n",
              " smoothness error             0.007055\n",
              " compactness error            0.025470\n",
              " concavity error              0.031969\n",
              " concave points error         0.011814\n",
              " symmetry error               0.020500\n",
              " fractal dimension error      0.003793\n",
              " worst radius                16.313324\n",
              " worst texture               25.782949\n",
              " worst perimeter            107.567832\n",
              " worst area                 887.046680\n",
              " worst smoothness             0.132471\n",
              " worst compactness            0.255388\n",
              " worst concavity              0.274798\n",
              " worst concave points         0.115252\n",
              " worst symmetry               0.289496\n",
              " worst fractal dimension      0.083964\n",
              " dtype: float64, mean radius                 13.955807\n",
              " mean texture                18.435789\n",
              " mean perimeter              90.697895\n",
              " mean area                  631.864912\n",
              " mean smoothness              0.097046\n",
              " mean compactness             0.104156\n",
              " mean concavity               0.084076\n",
              " mean concave points          0.047440\n",
              " mean symmetry                0.183760\n",
              " mean fractal dimension       0.063701\n",
              " radius error                 0.375847\n",
              " texture error                1.200621\n",
              " perimeter error              2.723612\n",
              " area error                  35.222491\n",
              " smoothness error             0.006912\n",
              " compactness error            0.025548\n",
              " concavity error              0.031219\n",
              " concave points error         0.011636\n",
              " symmetry error               0.020922\n",
              " fractal dimension error      0.003811\n",
              " worst radius                15.872754\n",
              " worst texture               24.727544\n",
              " worst perimeter            104.507018\n",
              " worst area                 822.524561\n",
              " worst smoothness             0.131445\n",
              " worst compactness            0.244177\n",
              " worst concavity              0.248752\n",
              " worst concave points         0.108809\n",
              " worst symmetry               0.295284\n",
              " worst fractal dimension      0.083780\n",
              " dtype: float64)"
            ]
          },
          "metadata": {
            "tags": []
          },
          "execution_count": 51
        }
      ]
    },
    {
      "cell_type": "code",
      "metadata": {
        "id": "IL_fSvTqNQwD",
        "colab_type": "code",
        "colab": {}
      },
      "source": [
        ""
      ],
      "execution_count": 0,
      "outputs": []
    },
    {
      "cell_type": "markdown",
      "metadata": {
        "id": "Tq5tyuaeNocz",
        "colab_type": "text"
      },
      "source": [
        "# Binarisation of Input"
      ]
    },
    {
      "cell_type": "code",
      "metadata": {
        "id": "QYMxx4J-NqX6",
        "colab_type": "code",
        "colab": {}
      },
      "source": [
        "import matplotlib.pyplot as plt\n",
        "import seaborn as sns\n",
        "sns.set()"
      ],
      "execution_count": 0,
      "outputs": []
    },
    {
      "cell_type": "code",
      "metadata": {
        "id": "mIiJb2dlOCKr",
        "colab_type": "code",
        "outputId": "1ffc677d-3198-4dff-92c7-57b7651eb909",
        "colab": {
          "base_uri": "https://localhost:8080/",
          "height": 395
        }
      },
      "source": [
        "plt.plot(X_train.T, '.')\n",
        "plt.xticks(rotation='vertical')\n",
        "plt.show()"
      ],
      "execution_count": 0,
      "outputs": [
        {
          "output_type": "display_data",
          "data": {
            "image/png": "[encoded data removed]",
            "text/plain": [
              "<Figure size 432x288 with 1 Axes>"
            ]
          },
          "metadata": {
            "tags": []
          }
        }
      ]
    },
    {
      "cell_type": "code",
      "metadata": {
        "id": "8_AvLy8NOGWB",
        "colab_type": "code",
        "colab": {}
      },
      "source": [
        "X_binarised_3_train = X_train['mean area'].map(lambda x: 0 if x < 1000 else 1)"
      ],
      "execution_count": 0,
      "outputs": []
    },
    {
      "cell_type": "code",
      "metadata": {
        "id": "nyWnyYAxOj0u",
        "colab_type": "code",
        "outputId": "f45683c3-643f-4adc-faf9-22589f8cf01d",
        "colab": {
          "base_uri": "https://localhost:8080/",
          "height": 291
        }
      },
      "source": [
        "plt.plot(X_binarised_3_train, '.')"
      ],
      "execution_count": 0,
      "outputs": [
        {
          "output_type": "execute_result",
          "data": {
            "text/plain": [
              "[<matplotlib.lines.Line2D at 0x7f7db4c00400>]"
            ]
          },
          "metadata": {
            "tags": []
          },
          "execution_count": 79
        },
        {
          "output_type": "display_data",
          "data": {
            "image/png": "[encoded data removed]",
            "text/plain": [
              "<Figure size 432x288 with 1 Axes>"
            ]
          },
          "metadata": {
            "tags": []
          }
        }
      ]
    },
    {
      "cell_type": "code",
      "metadata": {
        "id": "6c8mIRBIOoIR",
        "colab_type": "code",
        "colab": {}
      },
      "source": [
        "X_binarised_train = X_train.apply(pd.cut, bins=2, labels=[1, 0])"
      ],
      "execution_count": 0,
      "outputs": []
    },
    {
      "cell_type": "code",
      "metadata": {
        "id": "aT1C7M_mO00s",
        "colab_type": "code",
        "outputId": "a6704147-5931-4aed-8d5c-d6544ce7168c",
        "colab": {
          "base_uri": "https://localhost:8080/",
          "height": 395
        }
      },
      "source": [
        "plt.plot(X_binarised_train.T, '.')\n",
        "plt.xticks(rotation='vertical')\n",
        "plt.show()"
      ],
      "execution_count": 0,
      "outputs": [
        {
          "output_type": "display_data",
          "data": {
            "image/png": "[encoded data removed]",
            "text/plain": [
              "<Figure size 432x288 with 1 Axes>"
            ]
          },
          "metadata": {
            "tags": []
          }
        }
      ]
    },
    {
      "cell_type": "code",
      "metadata": {
        "id": "o_SE7r6jO4vv",
        "colab_type": "code",
        "colab": {}
      },
      "source": [
        "X_binarised_test = X_test.apply(pd.cut, bins=2, labels=[1, 0])"
      ],
      "execution_count": 0,
      "outputs": []
    },
    {
      "cell_type": "code",
      "metadata": {
        "id": "W87h2OUSO-q7",
        "colab_type": "code",
        "colab": {}
      },
      "source": [
        "X_binarised_test = X_binarised_test.values\n",
        "X_binarised_train = X_binarised_train.values"
      ],
      "execution_count": 0,
      "outputs": []
    },
    {
      "cell_type": "code",
      "metadata": {
        "id": "gGXZoo8EPGcS",
        "colab_type": "code",
        "outputId": "94d5fadc-c983-4fc8-df1f-7da33318afa3",
        "colab": {
          "base_uri": "https://localhost:8080/",
          "height": 34
        }
      },
      "source": [
        "type(X_binarised_train)"
      ],
      "execution_count": 0,
      "outputs": [
        {
          "output_type": "execute_result",
          "data": {
            "text/plain": [
              "numpy.ndarray"
            ]
          },
          "metadata": {
            "tags": []
          },
          "execution_count": 84
        }
      ]
    },
    {
      "cell_type": "code",
      "metadata": {
        "id": "mO8wE-vHPI7n",
        "colab_type": "code",
        "colab": {}
      },
      "source": [
        ""
      ],
      "execution_count": 0,
      "outputs": []
    },
    {
      "cell_type": "markdown",
      "metadata": {
        "id": "KyoV5wnLPLMn",
        "colab_type": "text"
      },
      "source": [
        "# MP Neuron Model"
      ]
    },
    {
      "cell_type": "code",
      "metadata": {
        "id": "DegZuy0JPrnC",
        "colab_type": "code",
        "colab": {}
      },
      "source": [
        "from random import randint"
      ],
      "execution_count": 0,
      "outputs": []
    },
    {
      "cell_type": "code",
      "metadata": {
        "id": "7IzdGtxTPNY0",
        "colab_type": "code",
        "outputId": "c88be2a6-93b5-48d2-c71c-cc5b8747a483",
        "colab": {
          "base_uri": "https://localhost:8080/",
          "height": 68
        }
      },
      "source": [
        "b = 3\n",
        "\n",
        "i = randint(0, X_binarised_train.shape[0])\n",
        "\n",
        "print('For row', i)\n",
        "\n",
        "if (np.sum(X_binarised_train[100, :]) >= b):\n",
        "    print('MP Neuron inference is malignant')\n",
        "else:\n",
        "    print('MP Neuron inference is benign')\n",
        "\n",
        "if (Y_train[i] == 1):\n",
        "    print('Ground truth is malignant')\n",
        "else:\n",
        "    print('Ground truth is benign')"
      ],
      "execution_count": 0,
      "outputs": [
        {
          "output_type": "stream",
          "text": [
            "For row 293\n",
            "MP Neuron inference is malignant\n",
            "Ground truth is malignant\n"
          ],
          "name": "stdout"
        }
      ]
    },
    {
      "cell_type": "code",
      "metadata": {
        "id": "45WGsroEP4di",
        "colab_type": "code",
        "outputId": "681bee2c-7393-4ee2-80b7-e59a4e354440",
        "colab": {
          "base_uri": "https://localhost:8080/",
          "height": 34
        }
      },
      "source": [
        "b = 3\n",
        "\n",
        "Y_pred_train = []\n",
        "accurate_rows = 0\n",
        "\n",
        "for x, y in zip(X_binarised_train, Y_train):\n",
        "    y_pred = (np.sum(x) >= b)\n",
        "    Y_pred_train.append(y_pred)\n",
        "    accurate_rows += (y == y_pred)\n",
        "\n",
        "print(accurate_rows, accurate_rows/X_binarised_train.shape[0])"
      ],
      "execution_count": 0,
      "outputs": [
        {
          "output_type": "stream",
          "text": [
            "321 0.626953125\n"
          ],
          "name": "stdout"
        }
      ]
    },
    {
      "cell_type": "code",
      "metadata": {
        "id": "TYxLNbAAReTY",
        "colab_type": "code",
        "outputId": "52783576-2338-42ee-d58d-b323c3115d61",
        "colab": {
          "base_uri": "https://localhost:8080/",
          "height": 548
        }
      },
      "source": [
        "for b in range(X_binarised_train.shape[1] + 1):\n",
        "    Y_pred_train = []\n",
        "    accurate_rows = 0\n",
        "\n",
        "    for x, y in zip(X_binarised_train, Y_train):\n",
        "        y_pred = (np.sum(x) >= b)\n",
        "        Y_pred_train.append(y_pred)\n",
        "        accurate_rows += (y == y_pred)\n",
        "\n",
        "    print(b, accurate_rows, accurate_rows/X_binarised_train.shape[0])"
      ],
      "execution_count": 0,
      "outputs": [
        {
          "output_type": "stream",
          "text": [
            "0 321 0.626953125\n",
            "1 321 0.626953125\n",
            "2 321 0.626953125\n",
            "3 321 0.626953125\n",
            "4 321 0.626953125\n",
            "5 321 0.626953125\n",
            "6 321 0.626953125\n",
            "7 321 0.626953125\n",
            "8 321 0.626953125\n",
            "9 321 0.626953125\n",
            "10 321 0.626953125\n",
            "11 321 0.626953125\n",
            "12 321 0.626953125\n",
            "13 322 0.62890625\n",
            "14 326 0.63671875\n",
            "15 328 0.640625\n",
            "16 330 0.64453125\n",
            "17 332 0.6484375\n",
            "18 338 0.66015625\n",
            "19 339 0.662109375\n",
            "20 350 0.68359375\n",
            "21 357 0.697265625\n",
            "22 368 0.71875\n",
            "23 383 0.748046875\n",
            "24 403 0.787109375\n",
            "25 413 0.806640625\n",
            "26 430 0.83984375\n",
            "27 440 0.859375\n",
            "28 443 0.865234375\n",
            "29 411 0.802734375\n",
            "30 341 0.666015625\n"
          ],
          "name": "stdout"
        }
      ]
    },
    {
      "cell_type": "code",
      "metadata": {
        "id": "9XoxC6Z4UT1S",
        "colab_type": "code",
        "colab": {}
      },
      "source": [
        "from sklearn.metrics import accuracy_score"
      ],
      "execution_count": 0,
      "outputs": []
    },
    {
      "cell_type": "code",
      "metadata": {
        "id": "JeeivBGRSlV8",
        "colab_type": "code",
        "outputId": "04ca146e-74ef-48a1-8791-cdb57f348da2",
        "colab": {
          "base_uri": "https://localhost:8080/",
          "height": 34
        }
      },
      "source": [
        "b = 28\n",
        "Y_pred_test = []\n",
        "accurate_rows = 0\n",
        "\n",
        "for x in X_binarised_test:\n",
        "    y_pred = (np.sum(x) >= b)\n",
        "    Y_pred_test.append(y_pred)\n",
        "\n",
        "accuracy = accuracy_score(Y_pred_test, Y_test)\n",
        "    \n",
        "print(b, accuracy)"
      ],
      "execution_count": 0,
      "outputs": [
        {
          "output_type": "stream",
          "text": [
            "28 0.7894736842105263\n"
          ],
          "name": "stdout"
        }
      ]
    },
    {
      "cell_type": "code",
      "metadata": {
        "id": "qoOIsqqcUlFV",
        "colab_type": "code",
        "colab": {}
      },
      "source": [
        ""
      ],
      "execution_count": 0,
      "outputs": []
    },
    {
      "cell_type": "markdown",
      "metadata": {
        "id": "qtoG36F6Vbhw",
        "colab_type": "text"
      },
      "source": [
        "# MP Neuron Class"
      ]
    },
    {
      "cell_type": "code",
      "metadata": {
        "id": "8m0o0KWLVdSx",
        "colab_type": "code",
        "colab": {}
      },
      "source": [
        "class MPNeuron:\n",
        "    \n",
        "    def __init__(self):\n",
        "        self.b = None\n",
        "        \n",
        "    def model(self, x):\n",
        "        return(sum(x) >= self.b)\n",
        "    \n",
        "    def predict(self, X):\n",
        "        Y = []\n",
        "        for x in X:\n",
        "            result = self.model(x)\n",
        "            Y.append(result)\n",
        "        return np.asarray(Y)\n",
        "    \n",
        "    def fit(self, X, Y):\n",
        "        accuracy = {}\n",
        "        \n",
        "        for b in range(X.shape[1] + 1):\n",
        "            self.b = b\n",
        "            Y_pred = self.predict(X)\n",
        "            accuracy[b] = accuracy_score(Y_pred, Y)\n",
        "            \n",
        "        best_b = max(accuracy, key = accuracy.get)\n",
        "        self.b = best_b\n",
        "        \n",
        "        print('Optimal value of b is ', best_b)\n",
        "        print('Highest accuracy is ', accuracy[best_b])"
      ],
      "execution_count": 0,
      "outputs": []
    },
    {
      "cell_type": "code",
      "metadata": {
        "id": "HK6uQLPMWZ5Z",
        "colab_type": "code",
        "outputId": "af8cd55d-27b5-40ca-d299-bc39de6fe4a1",
        "colab": {
          "base_uri": "https://localhost:8080/",
          "height": 51
        }
      },
      "source": [
        "mp_neuron = MPNeuron()\n",
        "mp_neuron.fit(X_binarised_train, Y_train)"
      ],
      "execution_count": 0,
      "outputs": [
        {
          "output_type": "stream",
          "text": [
            "Optimal value of b is  28\n",
            "Highest accuracy is  0.865234375\n"
          ],
          "name": "stdout"
        }
      ]
    },
    {
      "cell_type": "code",
      "metadata": {
        "id": "Af7shHYrWf_L",
        "colab_type": "code",
        "colab": {}
      },
      "source": [
        "Y_test_pred = mp_neuron.predict(X_binarised_test)\n",
        "accuracy_test = accuracy_score(Y_test_pred, Y_test)"
      ],
      "execution_count": 0,
      "outputs": []
    },
    {
      "cell_type": "code",
      "metadata": {
        "id": "3shdqIegWsIE",
        "colab_type": "code",
        "outputId": "4cf59b22-462e-42a2-c368-6de3d63e44ee",
        "colab": {
          "base_uri": "https://localhost:8080/",
          "height": 34
        }
      },
      "source": [
        "accuracy_test"
      ],
      "execution_count": 0,
      "outputs": [
        {
          "output_type": "execute_result",
          "data": {
            "text/plain": [
              "0.7894736842105263"
            ]
          },
          "metadata": {
            "tags": []
          },
          "execution_count": 96
        }
      ]
    },
    {
      "cell_type": "code",
      "metadata": {
        "id": "9RWxxyP9WuoV",
        "colab_type": "code",
        "colab": {}
      },
      "source": [
        ""
      ],
      "execution_count": 0,
      "outputs": []
    },
    {
      "cell_type": "markdown",
      "metadata": {
        "id": "pTD4MkNvWzky",
        "colab_type": "text"
      },
      "source": [
        "# Perceptron Class"
      ]
    },
    {
      "cell_type": "code",
      "metadata": {
        "id": "l_nV92XUarqv",
        "colab_type": "code",
        "colab": {}
      },
      "source": [
        "X_train = X_train.values\n",
        "X_test = X_test.values"
      ],
      "execution_count": 0,
      "outputs": []
    },
    {
      "cell_type": "code",
      "metadata": {
        "id": "47HJQ6tYW1T8",
        "colab_type": "code",
        "colab": {}
      },
      "source": [
        "class Perceptron:\n",
        "    \n",
        "    def __init__(self):\n",
        "        self.w = None\n",
        "        self.b = None\n",
        "    \n",
        "    def model(self, x):\n",
        "        return 1 if (np.dot(self.w, x) >= self.b) else 0\n",
        "    \n",
        "    def predict(self, X):\n",
        "        Y = []\n",
        "        for x in X:\n",
        "            result = self.model(x)\n",
        "            Y.append(result)\n",
        "        return np.asarray(Y)\n",
        "    \"\"\"\n",
        "    lr = learning rate\n",
        "    epochs = number of time to iterate over all the data\n",
        "    \"\"\"\n",
        "    def fit(self, X, Y, epochs = 1, lr = 1):\n",
        "        \n",
        "        self.w = np.ones(X.shape[1])\n",
        "        self.b = 0\n",
        "        \n",
        "        accuracy = {}\n",
        "        max_accuracy = 0\n",
        "        \n",
        "        wt_matrix = []\n",
        "                \n",
        "        for i in range(epochs):\n",
        "            wt_matrix.append(self.w)\n",
        "            for x, y in zip(X, Y):\n",
        "                y_pred = self.model(x)\n",
        "\n",
        "                if y == 1 and y_pred == 0:\n",
        "                    self.w = self.w + lr * x\n",
        "                    self.b = self.b - lr * 1\n",
        "                elif y == 0 and y_pred == 1:\n",
        "                    self.w = self.w - lr * x\n",
        "                    self.b = self.b + lr * 1\n",
        "            \n",
        "            accuracy[i] = accuracy_score(self.predict(X), Y)\n",
        "\n",
        "            if (accuracy[i] > max_accuracy):\n",
        "                max_accuracy = accuracy[i]\n",
        "                chkptw = self.w\n",
        "                chkptb = self.b\n",
        "                \n",
        "        self.w = chkptw\n",
        "        self.b = chkptb\n",
        "                \n",
        "        print('Highest Accuracy ', max_accuracy)\n",
        "        plt.plot(accuracy.values(), '-.')\n",
        "        plt.ylim([0, 1])\n",
        "        plt.show()\n",
        "        \n",
        "        \n",
        "        return np.asarray(wt_matrix)"
      ],
      "execution_count": 0,
      "outputs": []
    },
    {
      "cell_type": "code",
      "metadata": {
        "id": "def82oq6ap0D",
        "colab_type": "code",
        "colab": {}
      },
      "source": [
        "perceptron = Perceptron()"
      ],
      "execution_count": 0,
      "outputs": []
    },
    {
      "cell_type": "code",
      "metadata": {
        "id": "HTzWC6_ga1QT",
        "colab_type": "code",
        "outputId": "fba71949-9645-435e-f0af-5b2cb883cb00",
        "colab": {
          "base_uri": "https://localhost:8080/",
          "height": 291
        }
      },
      "source": [
        "wt_matrix = perceptron.fit(X_train, Y_train, epochs=100, lr=1)"
      ],
      "execution_count": 0,
      "outputs": [
        {
          "output_type": "stream",
          "text": [
            "Highest Accuracy  0.9272300469483568\n"
          ],
          "name": "stdout"
        },
        {
          "output_type": "display_data",
          "data": {
            "image/png": "[encoded data removed]",
            "text/plain": [
              "<Figure size 432x288 with 1 Axes>"
            ]
          },
          "metadata": {
            "tags": []
          }
        }
      ]
    },
    {
      "cell_type": "code",
      "metadata": {
        "id": "unLWqT2ta64C",
        "colab_type": "code",
        "outputId": "7dc5efe8-f9ce-4af9-e3c0-9468ff8696e9",
        "colab": {
          "base_uri": "https://localhost:8080/",
          "height": 34
        }
      },
      "source": [
        "Y_pred_train = perceptron.predict(X_train)\n",
        "accuracy_score(Y_pred_train, Y_train)"
      ],
      "execution_count": 0,
      "outputs": [
        {
          "output_type": "execute_result",
          "data": {
            "text/plain": [
              "0.9272300469483568"
            ]
          },
          "metadata": {
            "tags": []
          },
          "execution_count": 188
        }
      ]
    },
    {
      "cell_type": "code",
      "metadata": {
        "id": "q6Z90ibQbC-j",
        "colab_type": "code",
        "outputId": "33610f8f-e8c4-44a8-f294-e315be152f05",
        "colab": {
          "base_uri": "https://localhost:8080/",
          "height": 34
        }
      },
      "source": [
        "Y_pred_test = perceptron.predict(X_test)\n",
        "accuracy_score(Y_pred_test, Y_test)"
      ],
      "execution_count": 0,
      "outputs": [
        {
          "output_type": "execute_result",
          "data": {
            "text/plain": [
              "0.916083916083916"
            ]
          },
          "metadata": {
            "tags": []
          },
          "execution_count": 189
        }
      ]
    },
    {
      "cell_type": "code",
      "metadata": {
        "id": "_VNBlzGua3SI",
        "colab_type": "code",
        "outputId": "1a878b48-2da8-4b62-f1a0-6aaae975fe57",
        "colab": {
          "base_uri": "https://localhost:8080/",
          "height": 274
        }
      },
      "source": [
        "plt.plot(perceptron.w)\n",
        "plt.show()"
      ],
      "execution_count": 0,
      "outputs": [
        {
          "output_type": "display_data",
          "data": {
            "image/png": "[encoded data removed]",
            "text/plain": [
              "<Figure size 432x288 with 1 Axes>"
            ]
          },
          "metadata": {
            "tags": []
          }
        }
      ]
    },
    {
      "cell_type": "code",
      "metadata": {
        "id": "GjBe2XjsbH8l",
        "colab_type": "code",
        "colab": {}
      },
      "source": [
        "%matplotlib inline"
      ],
      "execution_count": 0,
      "outputs": []
    },
    {
      "cell_type": "code",
      "metadata": {
        "id": "kqnB6EXeff7K",
        "colab_type": "code",
        "colab": {}
      },
      "source": [
        "import numpy as np\n",
        "import matplotlib.pyplot as plt\n",
        "from matplotlib import animation, rc\n",
        "from IPython.display import HTML\n",
        "import seaborn as sns\n",
        "sns.set()"
      ],
      "execution_count": 0,
      "outputs": []
    },
    {
      "cell_type": "code",
      "metadata": {
        "id": "qkIKBrosfq7I",
        "colab_type": "code",
        "outputId": "611e9674-5718-490e-ec45-f66c563eba34",
        "colab": {
          "base_uri": "https://localhost:8080/",
          "height": 274
        }
      },
      "source": [
        "fig, ax = plt.subplots()\n",
        "\n",
        "ax.set_xlim((0, wt_matrix.shape[1]))\n",
        "ax.set_ylim((-15000, 25000))\n",
        "\n",
        "line, = ax.plot([], [], lw=2)"
      ],
      "execution_count": 0,
      "outputs": [
        {
          "output_type": "display_data",
          "data": {
            "image/png": "[encoded data removed]",
            "text/plain": [
              "<Figure size 432x288 with 1 Axes>"
            ]
          },
          "metadata": {
            "tags": []
          }
        }
      ]
    },
    {
      "cell_type": "code",
      "metadata": {
        "id": "LY74e_2Jf-zb",
        "colab_type": "code",
        "colab": {}
      },
      "source": [
        "# animation function. This is called sequentially\n",
        "def animate(i):\n",
        "    x = list(range(wt_matrix.shape[1]))\n",
        "    y = wt_matrix[i, :]\n",
        "    line.set_data(x, y)\n",
        "    return (line,)"
      ],
      "execution_count": 0,
      "outputs": []
    },
    {
      "cell_type": "code",
      "metadata": {
        "id": "NPRAhqVmgTQv",
        "colab_type": "code",
        "colab": {}
      },
      "source": [
        "# call the animator. blit=True means only re-draw the parts that have changed.\n",
        "anim = animation.FuncAnimation(fig, animate, frames=100, interval=200, blit=True)"
      ],
      "execution_count": 0,
      "outputs": []
    },
    {
      "cell_type": "code",
      "metadata": {
        "id": "PXZKOogagT6Q",
        "colab_type": "code",
        "outputId": "8f3678b3-b978-43c4-e938-f4d1b1af3574",
        "colab": {
          "base_uri": "https://localhost:8080/",
          "height": 309
        }
      },
      "source": [
        "HTML(anim.to_html5_video())"
      ],
      "execution_count": 0,
      "outputs": [
        {
          "output_type": "execute_result",
          "data": {
            "text/html": [
              "<video width=\"432\" height=\"288\" controls autoplay loop>\n",
              "  <source type=\"video/mp4\" src=\"data:video/mp4;base64,AAAAHGZ0eXBNNFYgAAACAGlzb21pc28yYXZjMQAAAAhmcmVlAACEHm1kYXQAAAKtBgX//6ncRem9\n",
              "5tlIt5Ys2CDZI+7veDI2NCAtIGNvcmUgMTUyIHIyODU0IGU5YTU5MDMgLSBILjI2NC9NUEVHLTQg\n",
              "QVZDIGNvZGVjIC0gQ29weWxlZnQgMjAwMy0yMDE3IC0gaHR0cDovL3d3dy52aWRlb2xhbi5vcmcv\n",
              "eDI2NC5odG1sIC0gb3B0aW9uczogY2FiYWM9MSByZWY9MyBkZWJsb2NrPTE6MDowIGFuYWx5c2U9\n",
              "MHgzOjB4MTEzIG1lPWhleCBzdWJtZT03IHBzeT0xIHBzeV9yZD0xLjAwOjAuMDAgbWl4ZWRfcmVm\n",
              "PTEgbWVfcmFuZ2U9MTYgY2hyb21hX21lPTEgdHJlbGxpcz0xIDh4OGRjdD0xIGNxbT0wIGRlYWR6\n",
              "b25lPTIxLDExIGZhc3RfcHNraXA9MSBjaHJvbWFfcXBfb2Zmc2V0PS0yIHRocmVhZHM9MyBsb29r\n",
              "YWhlYWRfdGhyZWFkcz0xIHNsaWNlZF90aHJlYWRzPTAgbnI9MCBkZWNpbWF0ZT0xIGludGVybGFj\n",
              "ZWQ9MCBibHVyYXlfY29tcGF0PTAgY29uc3RyYWluZWRfaW50cmE9MCBiZnJhbWVzPTMgYl9weXJh\n",
              "bWlkPTIgYl9hZGFwdD0xIGJfYmlhcz0wIGRpcmVjdD0xIHdlaWdodGI9MSBvcGVuX2dvcD0wIHdl\n",
              "aWdodHA9MiBrZXlpbnQ9MjUwIGtleWludF9taW49NSBzY2VuZWN1dD00MCBpbnRyYV9yZWZyZXNo\n",
              "PTAgcmNfbG9va2FoZWFkPTQwIHJjPWNyZiBtYnRyZWU9MSBjcmY9MjMuMCBxY29tcD0wLjYwIHFw\n",
              "bWluPTAgcXBtYXg9NjkgcXBzdGVwPTQgaXBfcmF0aW89MS40MCBhcT0xOjEuMDAAgAAAEbhliIQA\n",
              "Ev/+963fgU3AQO1rulc4tMurlDQ9UfaUpni2SAAAAwAH+v4QTPGoI5ASI4LdT3r7p1K8pBfs1voF\n",
              "5rTmoUAS+cVr015jkMVfg3niKHskFhOkbd8RoKca/IjU9lmRQsoibOluQ81DkQ2srInF+fDhmDiF\n",
              "0OyxpLKSiZMmak5SCqAbMfGiCkBWQdApu7y7fBFPUqmmN+sivVQbiG7EXsaTAPUfz4AAAzf/2k1X\n",
              "PTfb8b9y8wCi/2odfLAy/L435IO1yRpk2meELqqAiIa2YNyBaE/RYC1OXHzrhEBp099zemQmFRSW\n",
              "nV1RlZ/u6c6ngAh5KQM4klt558zV+NeRF0UTKCRwjQUk/2Dz49SssOESvZoIqHiAwf9AtGJgnyNy\n",
              "fnzDN/Dpo1lXvLJefNAcgRPL9pdxbA6mdmDfq50WW72C8xNbDjSpP2w/PqsRyZ/GUU7Lbqb/qzQ2\n",
              "8sWYa/6iyF00IqMDlw6Gxk/oeEayQKyLrme6or6tJunA8k/rzZUNjuKRkvyudmJ6fcbuN+FjExOd\n",
              "TIfcXhYU/C+HnC/7SLOJP9KqECEp/eOQ5PohYtVsWX1X0MWhEg5QhAK6+s9l3C4mGqMhkBW1PTKu\n",
              "si/R12B7bx4s48qShSMPHJHmjOXpobFlXPYFJtx6fMm5k+Blm9RGSJKsKVgfEpXKYZ60gjOXcLdU\n",
              "m/rqnt9WUP/ultAm3xLS/DHid5+0wcx/7ahIFzfiPzm90Wn1S9Z5DbXXb1ssKXFleCRR+ujFbzq9\n",
              "HzrlExY0W6vuxQGmJMPGu46YVimiRhMXLQy6ikl/48QYISvhSiBm1ymMb3EU4ozFPFAvWMTMZmwQ\n",
              "LGjPMmdXsDqqjigNBlhDE6CKnnxrsC7YO+5nWnPsnVw6vgZOpW/x+cIFQAS0z+M9vylcgfKpuZ/8\n",
              "3FADejdjRwGH1lHtP/pW6cKe0SGcTz8w/kpbs9p2+fzPc78E4Yjv3daDK5ITuYVdWD/LqIVxL2ee\n",
              "Qr5tOMioh3GDXLkBN8rNoMojsl2Gs66WJKSfATfKzZWXWYwjj771fEx8rNogthQuYrJ4V7G++6gC\n",
              "vs0+XMFbanvh2CXp/4lwaEV9XzrKrDEE1zlbxd/S3yq/xPx0+O+zO4AGZXzbaz/q6meBr42bRAS7\n",
              "jUiT6aNuass7a3O6hLJoR2/X51kfbFdC1LSSC2RQzfa4A1i0tzmgxDYNrdYVnLQ6DwKro+kVQY8V\n",
              "YGVApIFjgQdabqiO5BmMIlN5/pT+ombJ3SLu/ZJ0d5OBiDD587+6XXL1DHscA+RIHRCCncpHVYPz\n",
              "jI/61ZpINj1pJY/eciMA+sOFtlz42fKgO5nN7N8Malv4SXrLK3QDZLWkZ9dpqEs4OpxvzlJ2Xxcw\n",
              "9g4AOvmXtQii0ZvMrMDYouof5l4OXiKCvr+9Zfy8lifRNVsjzp/9aarX+dZtOb4MYNuMj2KT6n1z\n",
              "HvSjlrVLhJcWYWwd15mUUYFL/Ah+WkuW4+m3mS0u9dRqj7YCmNR/dmJBC6ayWbnkK3LwLsAQ9K0P\n",
              "F14wWNznCcnXhzZeQXquLtB3cQWWqoJj/5BEPosxJuTRy60BmpMpJr9qpC18m82NAi9bHodmMW0/\n",
              "ZpaE1Hgx3mpPHLWrVFscC6b9aiP6a2LDMigBkxMb6A5xnZMemTcTRkdCJpol8wZUe299G0xtmnUt\n",
              "3eUesZOSx9IT0VthTz2FNA5TlbjDsXNHFo/aiVblXl56uq7nad5KNm9ovB2pDzr2LaLBLYXhproI\n",
              "jlpCi01AWf/1JEZ1GrOgCoYi0Sq3cnPelPhZ+/fHijr0iE2wqd3s0G6MOKkwMrf2hZJH+XkRFxQw\n",
              "YwAl6nLPxwdHVmDUViFKr2IziutZ182UO68vQCi7DRj/G5fBRubI0XCwGOiLihgnkFWlpJEEv//H\n",
              "YIXd6lK8r6QRG/FfsXWtHbVDpoRZxXmtcAkg44F3PRYz/7XE5WvX44kc/uxPSZinKERj32tXNgQG\n",
              "4mZUjkTr5OkjhL9i6kv0pmsyfEuQ/TPWDIXbEdrund6TDaNmapQwR0r8wurVfYmgnc4juuRSHGfS\n",
              "gyexFb48AIiUC2JiuusALeut+GaZor5G89pSzNQ7Mj4czkkK+fAMVHQn+kNfjuMcxotJ+GwAAAMC\n",
              "sdUKfvTDtU/ba+qKOcNeUNGplKxgy5qCN4IR/Qery0+bXSzKFW6A32kQLzZem8dGHkAoseErxeHM\n",
              "vvoxCxekCtDrGgA/Y1rhjd0TE/T6n0AAAtPea1XWb+Z+OuaY9oLXD9icCdQJbOX4kzob5V01sUhO\n",
              "5W1SjZY+7+4tMU1OVomeokmqcQ+RqeyyEK4tGRs+rwYwcYWM1AWgyV9ebhuRWQ9+OyasB9o0/rhE\n",
              "b91TBqL4fai+ezqUMhxHGF7i+oxg78uvG5zX3Tco5muh3z6JDmv5jVGxrZD0+LCBDpgk5J8vnD+i\n",
              "qcqIv1CaJYQRiCRSPdczeS8X6l8MFCjdgJ+7opkZ+2zfYX6JA4AHKsXZ6G4CmnJBviII/tjs6V1P\n",
              "zp5/xhf9E98sx3Zz3x2v3pqLXqB6CUlj5XfKNLamV9TATnj8/EhJOMSLXtRTP/wQYpEmoKzVpaVK\n",
              "9//x6iYvzC4gwnsYYdYh3meljQgnL4jUCjZMtZB00IboVKJlAVhKk9XvR0vsQtvgz/TEBDgqA69U\n",
              "4DrmA5JJarzvbvArgEYG//nSXbEAEfaahqRNkKMgAW1mfJxahCUx4neBEIpUw0ZOIGoF/tkun+UW\n",
              "SGRx9RyAeFo465vZzecJ9ticNAYMaDz49QRcHtMyziRLZ84m29WtawU6BksZ4VlNH70p+2fJRcHZ\n",
              "63S8i31i+as8BJqQy36QU0jYBbVUV2sT4fh+o+6SilTyUvq8MWOTfyAGpdh9+NMKfO+bOhigRWk2\n",
              "utZVmrs0LqD2+FM4QFW6yeHrX0/pJSJX5P5Kjis0JHnE/oE9vNdhp9ykdS7/7ZIUYGr5NfVZm187\n",
              "6M1iCSltYxjsbdrbkoKjPN2L8TLLUnKFoCWtfvkwFKTjNbSvlCiuxK0ygLuDGckMHxsSQPzcLDcB\n",
              "6pzISmLPXBK6t9PUSrx50gSrkAdHOD0Ifr9hf+AXH9M0OYokg2ZAp6HZ59k/snh7CFPlOS7+NskF\n",
              "Zxpimeftjsk7GlTEapfhQdkoi6BehZcyS5Qqq66uZaOPTuu/Gg1qtm6ktnJWUJOLV63SAaOkUJTg\n",
              "kNVlSgP/dRL9PCNNPYiO7mwy+y4XPgFzE2GhV7oZNtVdXGwyT7fHco6jX7GAynESgueOXmgYf2y5\n",
              "m0kzBa3b6BoHDMJhGqiRoMtbOyw8pAIpnhCkPRMcBG2+o+HIjzCU/d9J1wkqebvd01mErGatUPiw\n",
              "0p723xPheCwKSUmGN0RTrCctyuxkmTJAfcnO84cKZm2ztVp2RmpXxUEAw1ZshebZi+Fumj2ddVNW\n",
              "oKo/FrDTZgPd4/jB5HbywzyXkGVeegTpiHnUW321DIbWjsk4gXMQMoQ9UjjVVszve3p+en9MSlqa\n",
              "pJAalp0SoUuRF7RYGPd/KXvzTKdrn1lX/bAM+PJGnVdOauArmyxHHVsgJahyOWsHdUW8pS1dJqkG\n",
              "079YUbWnduV6rBZcGi6S7F9sTmZQG59oWE6xQaY6f+L3gjTuDLH5Bg63vy3OQN4DOr6beoSDeocK\n",
              "RL9wVzK0UrQl3P6dJWBOs/y8qpUEGrnAHCMgwoX5WmMUjsbT9qyGStlXPvB3CG30gzAS1rssvgff\n",
              "EnEMskUe+JAmzhgTsSjldGRu9PMnvoZakXVuaTHI3IsM1QgyPWEATow/fXnsFs5Ch4Wqw5igVrj8\n",
              "6Y+rlh7c5zoy9IQ7yLnS+ulTdYCX4+cqewusOFDr4WQjkO6Z1UWzN96vgZQ6V4xjp0jhYLcLF8WP\n",
              "gN93QFSc1/zlQWVeu1Kr1ZRSiI+30qNutyn/HJsJknfervwzLkKiIURArq1xuQdWeQcp6ib8UbGI\n",
              "nyguyFgBBpQI5vXw02Z7oecc/rMZRAxvrbgQbKM2m7FwmsxHGBmLHe7kxL2aR7CjwX0P+fUheBuy\n",
              "TZ5QNtlwbmC0h1PBsPNJiNRzlRsiloCnIXMpqPZSvxgBxVxFtpeu3JzzJq2PcYbi80a9PMXExvwa\n",
              "hxKOFEHIKY4+WFtyA0rwCrwm80PVxy7I232yptlXxDbQgUocG7nxD1UQO6UvetYe3zbIcNXobyT9\n",
              "z4lh+4SXHn2VWPT1y6wXUssB8bPrqGoyhDcTpioKDTqs4uIgje8OSHQKnbqZTpBqDXPvv11rodNP\n",
              "bG/e5S2vbz+pkAIH7suueJcPYciCzswTMF/XCool909CUh1UdKSj93qjWWdpiGf8OodR5jZAQ/+Z\n",
              "Sc5mNIKzLG2GQOGDzVDdfYUNiH+aOedig3Qj7nCDc6DxMiXCGCfMgc/At9gdqwhW5dHfYzi/sXYe\n",
              "z5H3txuWaxBvi0sNAvBSRdDGvTu95rBIf+hE9AVMe4llKMZtt8bzaWQ4Miv/EVMoLQoOSwTZBhq0\n",
              "wREcQDSUYMibAI1GKY5sjpqvFriQ96XZMB8rWnGhJPxS7G/BqloVz7BsmPC7Hmb7sjiTSa/02kCw\n",
              "9aKHjZxcJzaqkoMoFw69CWFXpP1zpSXF7yBL5BukGZSpiijkajRUlisXB7x2QTqAfcGfci8osaTE\n",
              "4xif9GUhmXFSFkEnDBTJ5nK83jY5S/4Rr2BRmIHL6l7/dNtwR54aw+8qlQoPqZKggYltrGnfjgUb\n",
              "xJabCG+cbfnUQAws1wGvytWqs84xvrh0SP/fDN9vvFK3zl0UyaYZpb3YJT4mhe5WE1SgHNHq6iLP\n",
              "owb8CC9bEGKYywPvnqtuSwCLh5AgzuMTSyqGpzVJBT/1fGxV1SJOlSSSaMGR32N+iTdwhAtX45Kj\n",
              "3KEpzfpe5qyfQmpMrxFjaeR0vF21nwf0huWSWWQ0Kk0HjsUwEeqp+zDR+pqjBuPaQq7C08FVE9O6\n",
              "NSo8CpnYba2eGF5b72Be3Xv5JwwwER3MenArJyJYjVUvBXF9E8UZGmwKQqeenC5+T/e+X+t1Obgf\n",
              "NH8BSP2acHX1Wr9A5N5qEwub4MUOacZceS5+CQprryPlRUwKFGec8YAeD9nMTRI2wYvFZNuxNj/1\n",
              "U4XirwAYk0avyCHPztOFKjn6d3pPmPAvd6uSJ6RhgQ0Fg8JjCZEKzt7tzoFHQGBFKEKUB03XNhFk\n",
              "ShI2pVCmLWhWpr0kNr8/DnueDXH4iQ2mKrfrAY3IdTsYi6AtC+X2+ET873y7FwNdrEcTRbbeog2b\n",
              "Osokt7HqOz5I8kOBH9ntQFF5WSMKKAEleFgRVTKF+rm0NHnE7/oqAoIr1U96WmaE+tfpH2+KpvDF\n",
              "rK4NeEaUcF45fNiJg6o5K2jkkwFswh3RaY93uDqqQZZlE+GbQcxffazn7ZDxBTIe65/1HyHrYHyh\n",
              "VhJZdh0JuqDgIiIyJnSAGrBkCJrJMBmUoucjKfVC4mH4OJBgO4QJoArU4VhOmc4jFgLNXeGRp1pY\n",
              "S37QN7T7XvdIlaizPAz8Ne4vY8zYAkwz2qsl4NOqAHRFhDkMeRaKQElddS5ukt72F6vCmK+LkidG\n",
              "hWt2SGAhrCrjzuOEj0NJUDEN7qsPgFVs9Maeu3MJ5RqGhUW4p26FctC9G63nXVpKAybtGADdTdhl\n",
              "9Qfgu+LK8WX0qYVNfTKRaJCIEQ0cyoaU6deqQh/m5py1L+fd1ZyDJFcrr0xNa4jazAyNec+PfQhV\n",
              "evtAfFC2E1O21/K7CBHrKlKAeRWq9YIoY1J3FvI/70scJ272w1hoC1OFZi4OuYrZWHQw8fvHuqeT\n",
              "KeHGqZb5wHIHTCt0kn7sYBM667lCs1vxUBeXOKfcxXsr02+IPoUAPa4urI1Ng1oZM8UD2EqnhUNm\n",
              "n53ou+jjjyJq2NnJGM+oE9VLmHZnxJP34/vnDgaW6BMmFv9dl51tSlNrV9kCWT4D2vV9c711LSKv\n",
              "f+z8ZE2P60Tfbj2qvWlu/BUGbWs/br4CeSow+PYcOCtr2L9OY9G8oX7RJbR15bbhm/z7o9r/b/D+\n",
              "kTX05vxw6du2PkWvS6cTyUYAAAMD+Is86zQY4O8AAAYFQZoibEEv/rUqgCKJMxEpvxoSd+gc4FH8\n",
              "Z9gv5ycawvQmDpW2zJc9WhkPPru9MtCr/8b7fvnZVv/ZtkX60jNon5G/nxkttwjTntsFVLVmqF/+\n",
              "RMT01hW9cghkNgcQmRfZYPZ8pr2l94Q4bzIyLMCzoW2z3BisQkrm9NzvCggxp4WsNdj/pWwy3Vxu\n",
              "H0lG1iuyz/FM2t6klwK8/nUE13arogWn6CzZYZ+s0zpmgRVwg+rVWpCLnY6XPtPnBa8RgfJjuCtN\n",
              "/2lAGR1hkgHX5idJ/GSB4ZtDQxZNR6T92oGCnn/PAloo4Q5YDigarR1UGcLaiRyp/2zNwtU3P7iC\n",
              "PyqIXU7fB/B6VyH4eT5dDpkbm6UDpxZ0OvRKFlIs42ncvED1OaksE7uecov1w6Sg8U2/iIxaZA/Y\n",
              "62BEXADDFsVgUVqWQXQoiMVCLKhxPRw6h75JVOT+XoARCfm9zjhSVKBHCp6qbVO/EO/1n9ntnmBK\n",
              "4QXWrqF932ET+y2dqYKL42x1jbPUnIUEWEG0kw8+ObvbmB3bs8+ynrk2/k2KaKSnUSh5lPMHALuo\n",
              "WzD6uWYTUCQD9xgZ6BandAIIcZmO2khiSlTOFf6v5ahR/EWZCvv4ApSWcnHsQHpavAQwlZLKB/PG\n",
              "pXjjJje3c/48kSAQjTN9qRNiNEzT6zXZ41roT8TGQzNi88dj6fJrWI2K23Y8A2tDMT/ECzdeojLY\n",
              "u70Rt3y2OL+9a5icCf8Tp4FVYsAdJ1W/cQHZoTjJRlyzuFtMg/r6+BSFb+XLS98sDVBgbnmqOYpL\n",
              "ehAV7gx1T/ejziecncn6p0CXyPgCbt3J+l3/cKaKBFBIXSYquX1PnKdtw2GYuvuendaFIcLHYy2P\n",
              "Zxs/H/mkWIfo0yPfGjJDWdeSc/TOGsPq4TRWgcYXo1HU1GeHfsaTSNWho3pHPcxUdK7XUjTOYo1t\n",
              "U33vtWC+VGeW2e/SW3Cf/Q/mmCzI98cWhRPcoE5zt8nbBhREl4lOMt4ykwX/IUsfp0OPN9Tb3sik\n",
              "mQIZkSGJ/Kguewo+wCfO9EGgXdE1dqHYRTtm337t5WNv1VLaKXoajMeF68UmV84pmThyK18UV8UH\n",
              "4kSKXQrBXhZr5883dnN43hqmjpdUJk2Y55k68IrKJlCmOTvsZMz1u99eFuS8+SqU2UM0Vvvac9yi\n",
              "88XtUaG80waZgutSpHIK5pzouFd2WG/XieEyTkBZ0GU32DB3cKIgjqU70d07wlb13qdODVMboFP/\n",
              "e7o5F9jZaLYoSaDvmzK9VqarZG+WL4f8dmtXiID8dA6NG9cWGkZ/CZRjREYwQSi9pT3UOmqEGxoR\n",
              "zOxz2mr5UYXc+krndyUwy/auO9hNdVTU3Ee4fzq5Bl3VzZm2g53Ovb6RrrmZiz/pYWUr4EjcYtQC\n",
              "v15tDgaYDfxmRxJbN+c7vwdE2wRmQdTDTQwPcz+6MkCnp0sSTYgaTZwXzVEw/Eyg3AhmEqrJdNua\n",
              "GKQn3jWk4BjsAT/MBRHW1yv46S5KtHrQH114C+kqyEoC5scdjztzk8eRKoo6C7uL8i4PRsDy096B\n",
              "7tydwM3wWPJculKjJwGxWxI730BGyhAQ1XP26nM1LKzaWfMLqLC9nvKEa8vUt168CEI1DhrstLgw\n",
              "xoHymkvGbXh3oyCyElD7DrJj+Tdnro6BfJMKibcuIwFc21lp/q0tSsJcIBxQFv8qB2hHlzlkPCKN\n",
              "GrTZ+kT6Tta+arfNiHujDH45HQRNdK+SE+qfO2sznnV/QTkxlAAFCz89KSyKbqP09CUQNvDVGIEg\n",
              "/X5kbm+Rc5/XCAjAXV8+QAXdzHR+GF1aXHZ1O+wyWVnfa7k75PwgS55GraNORTCibGmsLvbgwd4D\n",
              "Gil2sY/1DOjO3rkwtrQWHuZ0updE7ad5pyaUdA5vo1YTHWkmcNPPI0OslORsr99dFdCSNjZJNrpu\n",
              "5wjNvWubO0biqfVFJ1Qzvwwc69aXC9lmWh4K1mQ95ogNC7xb9vJdfeJqKHEN8IST2aFcZeDGEVfV\n",
              "gkL+ka2TKhk8iMM+BKNvh4Ymxc4G5kR257eQdLRdhbz1OcAAAAHSAZ5BeQ//AAqBOfcKTziSB6+Q\n",
              "Kx9v8YDNFTVtwA3Ujf4oZFxPic7eizuxr9sFtn9UrAUjF3AP3jDokMybpBUjy2CqcKd1JXGlWtEJ\n",
              "M86aOGacZWspLTHMtp3ET3NwQfeNBKx4G8sNJqhlVj/JUsMKBrli3/n1NCyol1cMgzVkEmiJDgoJ\n",
              "sq7E5bJTDKbIDZ4fqiA9LeMgqKGN2BgnHFKPOj0V/8dDGRTGXF+Jnfd3woogigFj+7sYIoR6SOZn\n",
              "4T6w/uOtHf747bL0HqPJx9UEk1ZH0h/RZ7YjfoO6S8w1my4nGk/7Qv09u4KkfFfAM7fm7sER1MiK\n",
              "8mTYQKpnX/29DHnh3ArrwJThNIbBeqp4GW29tsy0reoGClfpRgNnhkuuybDBBnR8gQpRLog5/yXQ\n",
              "MncKEzLFixeRSaAx2pgsNdUrlvGrJiH8RfMhn4RfHoKv8I7T0jHdFRmjqyhYwcv8aMKQ5DvXjcfj\n",
              "P3jGb1twMwjpkSjvBRjNidZOPqlHdGwQpcqsPuJ4n/FsJtvNIYxXZhCBXO1VKINtpcKOLTf1YuLR\n",
              "vUUpzvJQR/SfBJM3BQ7Xg9M0r8J7wTFPfuS3nHYm0XNAoeuEHRm6EHLbBKQ1Tv5UwQAAA1lBmkM8\n",
              "IZMphBP//rUqgCKDvRoQwRsr9+LPziU1/y200ginchkgyHXNUQ8BCNaxnykz8Z6pgYzi8t2PSS43\n",
              "XMMLoFIhD3EIRgCGM0nCxMBcSjjgxLORq3zbH3/PQ3eA4TLCVFcuJyEnw63uJyVU9bquVeHhxiLH\n",
              "GiFcbgLsVSW6VwyitSRQZf/IB8494iQzWAwqQxJrETwFoaql3JaNLdjye4m7rTyNNuDPtMevkuiz\n",
              "xA6Xpg7CLJ2/WJZXGvqfEom69GTqIK/5mb2pTij/BtvE/RST1yAkdHx4mQfWNJ8EFXOfR5rIDEh2\n",
              "dPFpAI+BHeS9t/d/8iTBIZCdWJzMhqbyvd2LugFIKqAzZb8yLSROEtdhmKErOxaRSSuNBQujGScM\n",
              "EP9JHOfwT6QUfmgcMvFLO0rMvff1wWJcU5dpK8KxKlXnC04GgkqVFXiyBdsYhbi1XhJX3zevOW/c\n",
              "8Ca+t+xH38q9AW1ekGckx1bQndr0YVfscY+LCsOR8t3zfWNVqwC/pVD1X2G4LmM/0mE7KnGTuVkr\n",
              "KZWh/LZpm84MlzUXY9g4W/9K9eE0uda4vdvuZE7G6hoL5i4KUgK8JiXi0EczTqqMifrFPfp2AxJv\n",
              "nnYgX6UzwoMzF1SFBzXCBH7ZcgffMoSxtyS3+p4NtV3dGDfSVHkL9+bGbBA7SYoKgP3d1aNxmepK\n",
              "SKFrhFozTvF35obdO1ZrQOfLHpgem15H/zPQbRfVqnU5OR7HN+yMkXqsFS6mBp8Z5CwLoqsMEELE\n",
              "rEzl4WiIW7+SArOFmryO8WyBBqPkP2nCjvyN96B0o8ATeHWh0vwgdEs5fc1GzrREGh6RvogoCn/9\n",
              "x6+SGiLk95Sip6+Qnvvcx1keJoF8mbnF3StsvYoYEDMLg5MWP/uiDNrc1VWGLH0qbdLA0Pu8LqVO\n",
              "UlvH/B+Qlj4yeN5AbO7wgBoMkNjR91YJPc+w9Me1uo90/SaP0GRT7hN07JGbYVx6bFafMkDh94Ek\n",
              "AJAEhE6DL5RVOp3TVzIAcQYGscn1Qnja0uKOhzgU47TMGwGn23MAVCeAMgxBsrR6HZX7VJmMrVQC\n",
              "2J7E93ngK5eE2oVsKOqydA0LjbCNH/+eJ6RV3FEDueSIROQJLf/aSJV/4aF6qMWeop0w/AOM8AAA\n",
              "A0NBmmVJ4Q8mUwU8E//+tSqAIoVw8ATi+86n9eQ/Sc9kB7mzuWchS9bJM6DZKj2lkGsuNoP4o0Ez\n",
              "i5Xaw6vSuelpg2OfTPeZrWVM6SxBVQKcAN4wrhGSF8jy3wPFq+3GmEGSSCcNiHsdh+mKq2dwOv6I\n",
              "lNjPHtcKm7ON8MoHKI7fcFoamtbAhcl0VZuIPkVqmkxD+wpxZeyiKgawbJwkZHwEI1zTRC2+dVtr\n",
              "hAAHssXWQy7DUmMhOowSvSjokhiJTUSU7u3gLTTSFDHPPcYUsYOJEqHumLfNRQeD0z3E11uUDSZZ\n",
              "PggK2f8bqK2I1ZLUjjufxLSSJ0fFqVWGfK2HD+Q2gpfaiJgVOzcKJ1QaS1N1mQH5VuI1yfgHCGZw\n",
              "/XEZBeYtcWiiBua+BpUjFn8qf9eE6y2HbC/SpZ1OpFPnHRLtVpLnoomf6Jf0CyrjNMGdJ4v3/iSA\n",
              "eyn3uaSh1ln05S/57MQy5LQyH2sr02gR6EkQuUbOQ58BDdwnoZXPqwJ+6cai8Q8DxBDkf8GYqiNR\n",
              "DkcJC6dIBCtRL1J571XkFSFXzxC9DtlCpZo0Kt29SIaecy8c4kOJeSk5od2I/gxxVFAEPdQV+nvc\n",
              "aSX4r/eIbS+lihRPCV4cDWR/OQzGsVVRX0PrklFQ2HF5QiY6/HgucRu7J59Y2MmSNHBcpgHfYUyZ\n",
              "l47aZylLdf/6crKd+kPiYSox1NJlUCa1G+drgw7rS0eP9ejytGKKBDbag8tAnjVVq+4l+3BpV8Q+\n",
              "2+ln95gkA7nfiQLyrUr8z9REmYohJMLQm+RnvKXp9EMDd5nnQAlJckIlJJeQTq4AfIKN/CtJboYw\n",
              "OBx2ocjRfuOiqHULyEHrTZHuOTPI/pXhwIv0puBMTt25Bef+3K/vxZFLId72rmmpxIfvTQwE7ux6\n",
              "MnXGoeyAj9wXaK8JysyiVp5LNTIWbruabVCawEwYIBHniCHgifYvd/GCAOG6rPtgB2wMtxgqwkq6\n",
              "KcYoq6SVfZ0kt5drdJ2cvnbGZonrySLWAxmwjaGRVOKvDABwWLlIl3BHT13TwgWiUAeS/DT05UWD\n",
              "sfsioFzCq7n1d0OU/+KX/pHLm/0JZCRbjjq05kjt9ktPAbtoOvSBAAAAuwGehGpD/wAFDtZw+udo\n",
              "o+8C8qTAC1aG55WByZgJnMQVga5I869JWpxd9lP4sZxnlGAtKvX08Coa0JE4tAl5z9pRVHpwILkW\n",
              "mlL4BLmXgWxRmaSxFcHP3l//L+R8T79Op5k1RwFf3rE9sfvo8crBw1B4FSGllWivNExv8hdv1fk9\n",
              "eaTbBxW5X2q2E9VG0k4Nhv9P+ERhe5eMS5loCl0VDS1plJZM+VqJjiR6rRdy3RC9MVioSm7EdZZu\n",
              "8U0AAAOLQZqHSeEPJlMFPBP//rUqgADeTdRI+mkAOF8d7qjRRxAcZex3gsX5rl8cQ7xehyTbRRGE\n",
              "Xa0aHFAarWMPIdPVVLOVfWxRFSKZ8TebxzwNF1eoNu6lU7ysVOSABMR6+ec+5YtibWu0yTk1hnuK\n",
              "Cd+XX8p8N/rqYmH1vScPSF1thvFj57HzZKIW97n4MH3kBKMWMf3z//JuqQpa445fxSQWnLJBkma1\n",
              "XDyWkXzITe+mhYuhEDvFrdRQ9N4mRmymPMwB6D7nGV0tqkcuK/sVB+rj0SM4bZ5ZANqAU9CSatqA\n",
              "61OHegYi66Clxjl+zYWwzDo8LJgYC5UTVGgXbpeezi3ftk75QfBzHXj1h9kGpBe1NKJYSakMzWgz\n",
              "kGfmGZyVfFCykQXegRr6eMuwdTZxjgv/BL02+A8s96p/rQkxGueznoT55PXE9rqUcZzilh1TP+1l\n",
              "ma/IyJvE6imkL2+fjhHX6EDGdbr8Jk068zetggZCrmJnPAlcHlBDfIr8RXXIjY/2Ad0egYT9ikgn\n",
              "XsF+Gnt/KVedynrvV+j7aKtC0xRCaVJo+q2JUJyEDyePeQHkSpf664ZXFp7/BXvH48vT/3GsX2T5\n",
              "H7t36hde5u3ALqsjtubNmIKuObHXxCCzMMJ17U4mG92I6kzIBKpLA9oKHU/fQQRz/icDcZ3WhJaX\n",
              "0gapCjPM+BAhEmW8LsiHK0O9dKNky3QnH/YFEw2dfuTXHYg3Diu/7cedau5xdrIRUBZ7oAPyGcVT\n",
              "EuATbwDPwSOL3VaEiqKbwdXFB96f7Jlbg2fuhkY6JdZNbYJwYpzlgUYA08sR3PUdmoy+fSaadcBH\n",
              "/mRkn0TDoIn2IdVn3TtZ4Me3ldO2sgxfy+18OdQsV2/xXzedfYtr/qz9ETA2iv1wIfsh5sne4sTS\n",
              "zF3NVAac2ohbYCSue3cvhf8Mr/jXIDHsoy9dO5zWTuwVRhfXcHyJD2XAR76GjK+WwUjPaar4AGaw\n",
              "m2VTjX/EIi3xQx+uUPFXit/eCZI/zN7LwuVLNSMOWDIkVNC9SQ3uPQSJsGuyPiPpNx5x9lMpdOyu\n",
              "1FiJVXRVKaFq9WXIsF7UiJu4JN0KgRC5FFhhaXiyzszL2PkP8GYRrbIw5/fJhstBDw0AWGtYHYep\n",
              "xAnNqxpBEbpmypIv6MhF10YmebWUhvZ+2e2UXcPRnh2S1JoIzRJX19wFIoxkMBZ/j1IwV/wN6+7Q\n",
              "8QAAAIgBnqZqQ/8ABQ7WcaEnn0Ag9puEc5uTFkdfchsJmSUbfDvamVTxSRgE0Ym/4I8ctb4nZhHs\n",
              "EhlsFl6Xd3qUtOiw7KRU/m73GJKmEGgcPfaXjgqDlxUIhwUnt9RHqH6HpSuW0mvh+N2e22Ojixz0\n",
              "SsOnhAMkdPVgidW66sf2Xwf3O6Jac01FALuBAAADPUGaqUnhDyZTBTwT//61KoAA3k3URrCkAFbO\n",
              "OxJ2WiS5lwItYeb98LNVe9R9cKj8LtaL7KCBJcDrX2QGZhGOmYRMkWvZznWJoBzOKBXhSbrjyv4s\n",
              "scmJ4oxBc/ZBdJWkOiyTgcWAp/901sHnOIFj48FxbGCGCHOPVjt1BhLidnf74Wbi82v94yzfYTHl\n",
              "f5XkdRduP8ND3IfFk/mSlOMxFjuO0fyeJQizsDUsEfVnJuTfrkxzWArPeZDGtE/vG55Lj6inn0Ar\n",
              "ZqUMLS8pAsYT0Zzbsy8aPZOCQ+ldY2Pp74PODgKaq/uwwsvHjVcOD9fyVDnTP0JuykVCuXky8SeP\n",
              "RPkg54T7p13Z2zrk0M9xZ44leS5fwdytok+qYoqfTblF7nYyf7crSnwcsCKZdHUfBUC0IcHaid+t\n",
              "SR8wwPsqpZbaRz04OX8bTUcY9YVDW8rMsJLHA42i++xHF13iRFNXdsNahCgdjtmadLalZebFP4ZA\n",
              "3LQDWD5w+txqPTUZhB6TRpRaPP3JVXgLFm3ibg/3bfQSrLhf+Evwa9+dCUuLsCFBtQHbYAMbVQGB\n",
              "iT4tymqLBGI0nGho/X0oH826ayBRpMWH3rOO2xZ482v3IymSzPP+20WfOO4YsCfnAMrfSH617C1K\n",
              "5Oe1PFAJtEOb0C/set1L4yqDKMu9rBH9iEfhTDz1hzFhbM4dtTL7pReZigMIASw29BTGUZwLvZ6Q\n",
              "TJAw2EXdD7bWFdcVjABPlyv0PyTNuLBXY7E7EOiJzMFR/pDdU7ebu9loEImHiumwEXqQLcD/3bFH\n",
              "biVeNIOSINGxtoX+hi/K3bghfTYYNFXJ1vGK2N0fmbyXChY7w3xV43gU9qzN+/yAk2iH053kv6qe\n",
              "tzSA6gwqggH7CfQZVOTJ6JTD0XwtQ/npYm25+e5/DPe1Pg8ybPitRxwcnxE04B8DH9FASvKthnRt\n",
              "g1lacwPEOkQPsYARNFkbWGgsnN7sHFoe+GFy6c9kK3iMnd42pJk/Bwe8cyvg8B6xayaOvXVtEUTg\n",
              "0zfWD5zeMQyxXNsSbbh370BonqaoTz+0Cgi+lhjFUIkKG4FVfYs/LFDJ/Qwh5ngWy+y2I6LkBlI7\n",
              "pjaMWyoAAACSAZ7IakP/AAUO1nGgPjcH46O9YeCnXc7TFqmUZ/zAC5uPH+59bHB3YalkPs7JHVgm\n",
              "wrvRJtODzPdGD3hyVOVrXdUVV7qvy7mRpf6FvWVHXk3G+HMaRu4iRg16MhPj+D8nGnzBQh3jOGwB\n",
              "OABbV0xhiIPRBwe1qZIFAxC3pKrytefwnBeztkuloAp0CB4rJ6cAM+AAAAOPQZrLSeEPJlMFPBP/\n",
              "/rUqgAE4e102kCzOcqkZNe/1AiQLPU0yCKu2nbyITtCMm/212mq4rS0Lu+VqGDqs8fJdAX/CgYpb\n",
              "RT2CXnktQFU2fOAaNipj1LnIb2GOE/eru7sRnnBQfygLavwwq98nONimxHGF2QhiTND3brmjyZYg\n",
              "M/1UBEoFL3SMp629AXP08rAiZDMozTvnJgZ3BwdlzLUYdaGJY45hADe7Km+gKEaaovWBYuCGN2yk\n",
              "TpV/XjzGydc61gtPb6jEJKqkLV5rL0sK/qxyVUyDfDBSNi1KaRVAorOAgaVe/dT6dkNlpRlrrO3W\n",
              "5Z6ODVPIuJThLcNBvBc5anO0+MCuwBmjmu7TAXX4vsIMdo892WhEnTkJPCGJZijFRN9FEdzo8Kw+\n",
              "aSzccb3w5Ab7eKqj7/zchJHU7zp+6Yna7gxWPlhms3SoM/4rGdh7Q9cA21iybfWR652At1nyqOh7\n",
              "ihW6XyZme3rS5LzYFiZSt+j1xDT7ln1zOsDoxF99so2fbguTvdSaN1Ybn1BjPcVKIo3z9YOABDO/\n",
              "VSPQMoBBjxZuFMJlMbyjUZFVQ7K1zD2qNXTAcBQ8UEzNcxDg8KQNUySlOI60yLJdf6GTdLDTob/s\n",
              "vXqZsnB7gsh5hTiOwwOlr3BAEtXFp3R1Xb3HBjze/w0uZzeC9PTlr9vqMTpVOS7qVjaunMaoKVQ0\n",
              "ZdnsemjnB6hkyizowkoi80ezXpF5exoMGTNV3hw/8aHxBN/Tvd/KYvHU7LP+BQnijulzWOgnf5d2\n",
              "AwVc3cshLGQVlQq1C2hDMWTUVtXRjIYQCBesB75XSqoE5/ajg1DgwEn0Zia8LLCeuOlxGGMTm5Ti\n",
              "W1/icqszucT6GRj4mn/xZAcXmBQMnZTA3KH6fq8T2YpeX8EDzspYhV7+8Jq/QZQ1/wBiDdM4CXFc\n",
              "Rx+++zib23jbOpyoCd2o5xau9FIhIq69nDOKhomXnLGgDSBhv97H+kLcjJ0nrDjV8AzS6ykBE3fE\n",
              "aKpZcfDhdKpJfuMGQfARJfueyatfLlqNkK4tdcFx6Gz8QE5wUJ8S5YUHRwMTcAq19vmctELOI3uY\n",
              "hHORn9Mev2cxe6+IH4IIXWkxYJHsLnzgaWfSq5NqOvH/85FozXLgGY1lEVwHS8nYV0F3PzjG1DMW\n",
              "S0m8QIsSB5fwagUd//08bpkN0frE7xjMbP6D7fCT/pBZZBDjH3KiGEeojwkAAACDAZ7qakP/AAUO\n",
              "1nWl1tQut1K1siJaAFzY/n6cgQnVGwizln7jyhPNvuNWZZ8A/fH+SGr0r1V5OTtoAlxkAKY8FrGG\n",
              "cRxRYCb0JGAtEc3Wi7KOGKlvZihDAVBOFtuEy4dR9DyZBk62wcrOYZQC2AACKHXBmUnjv8ljyOGJ\n",
              "4atSvJq960AAAAK5QZrtSeEPJlMFPBP//rUqgAJw4zOFTSEbDqeVcP2TsAlV87EH6VFnuFIDAMX7\n",
              "KFUcSXBnqDrk5WHVpfYfpeP+UH9ulE0yA+vwaeXlilpCJwj7ObT0s8Wn+5X4WNx2fx1jrwHqFMI8\n",
              "pJvzzf36n9f/FdNI4HeLgvAy/Ec2tGKXZI/MhkonICe1HTrSsn8BnFX7Cn326ncGI5kmof20khI9\n",
              "bX6CYVeevFgqbjtoloRrGxuoP2B3ygEMVmKCZ4KHq9Hsl01QyzP+h0h+OyPXrzFG4yH0Rq7tpshU\n",
              "xDku/H3IzQVVj2aCimXY/VNyipo6qoTo/QuC7gsDCfs5rpJEKUqPtLGe1bzCLqG7GInxlq74p+yd\n",
              "1ocxGdPY3Pp5onm4/SM9688LPbVyLt7KWBHe+MiOLt0KNkSwn3Pzvzr0Rt6RW77QN3+RcH/7AJLP\n",
              "rjAP1w7KG3OrfjkEuCSohbEMZZLCYiP2W/ljQoasRXRx7c2s2/qKp761NLKBchk7V4jU8hDuJAmY\n",
              "iCS0x7qZP3EwJoNgxMxpUkPvrVFgu+T+FUq4s3y0/VIQ0vcmzFvggQkm7SkEOvVeIYJYcpVgn5Nd\n",
              "G9QOQsGr/3FyHn3YU6qiWea+G/Z5uPkjLBkoJe04zhh4CiFcN/wSpsGp16pHoiXNxJjDPAgjuOcA\n",
              "5KmpMYB2xyIQlcNwkxrYrZr0lIL2VouZ6Ff67xdqWccoy3/xn/X5dYZBgjPRTB4okU93iDZB4oHo\n",
              "9lUInB2ucRx7lSWIBVTcgxCXbAPaM7ErJ68fdqAHvrT1e2123kqQCpkUECwa2KKs2+plycp0aDqf\n",
              "xBRBuFSqpijwTJE4rkMMTO4cCX0PT9dvRA/xKOMFMto5U1RsH0QfIHzZzlh9REJU9tiXRh8eQrIA\n",
              "0ZBokElm2VK4YYhcG9zPY2WCT3VntDgwIAAAAFgBnwxqQ/8ABQ7Whl7HfagCJLYoDHyIM8sM6Vnr\n",
              "f5I+AAXFaH0nguMpQ8dacH1f6hV47xTR+o7VYOakZH6JRQeKEMiuI0Zm8tF66C6Z+g9gPrcSi6Hz\n",
              "zaUlAAADp0GbEEnhDyZTAgn//rUqgAN97F/GrUL4QNJAwbvKuH7KgXM6GOKtVpOGWp5unAKARojq\n",
              "s6wJpTwScidyTJvIAzN7uzxSfsaH2kJWftiV/BY7OQC63jndoApjdonELcNXquupGAthFOvjlRB7\n",
              "yMAcGF8D4uyqhgoAUfeQCMPwJOrgAEc3/X4hFHQ6LwymLRcGD5BLQQ2luOZ9A9O3N1T3A07r2Xj6\n",
              "Ue9D5+U1EG7rPfs4ZdnyoAG2FjXChpYzmkv0aEXk/ez3rsafk5WsganBgKquhvbEUMbHCEtikQdX\n",
              "AX20T26aMhn7/Djgk8Idpm+IAU2HGlKSlq6Su1T7LaiPNDIexinQ4MidPMumR/szZuJKu7T2D3p3\n",
              "OMJuFaYBiLg62yuzfDd7hXYkC8Sbgp/6vze4anYAZ5cs0/Ixp1TgZzy/ClMzdGww7mg5IPZIh7xX\n",
              "9vXyX6Eqa+ALZrMgbqgHVjZkN9BNgu2FvubOhmBqlQ60ACN83pglNNtsvpwdS27pJFdcM6roR32W\n",
              "LPS6ls9bVSa9plVI5G5sLBpV5hVu3wDtiYivPW6t9QiHiHDYl1kA+1M5mKB5MQa6DXp7TRcpFuUr\n",
              "qcXNzBC4pYkFnckYDH+ysSKtpsrYQ4Vr9GfKAh4AyI74ArWqy3UhGHtOHGrNk4j4/bvpjO8LJ9FZ\n",
              "3DX7B8/nk+rDlCAWPgEax8vfhymennlm/y9Wdm1CA4xAGK8UtJ+B591tYdVRVECjuCuYDE8Ztw8G\n",
              "PHn0JI3dmNWn9qktATp3Ywqo1ruKvqPsZpces5abM0joRKiCFk3yKiU4gNlLE5xL+ulTLa9lEoMj\n",
              "ejx9se9joeQKONJNAoz6JrRTNPm9TqmBOw5sJm3+wXCzDCwdI5A34JaCs34M5QPz/qRu6nQLau0c\n",
              "3jsN1vB2IC6hXXi40Mqj8r56pWXijoczWWiw+NlTxQMIsdq3Hf4EIQUGdeXb3MVmtCJ6abi+MTIf\n",
              "U/wknKrbmzPZQ5WFuarmX0m0B0f52Uq4iqXd3AUg8XIQL3QzmkcXj+9MtXyJjczIdXOhN/lH98HI\n",
              "FJy9CwAfqMMuLHJ3DnIvFVv1tafZpToQ1LDN/fN6bpBejDq2JJRK0w+I53xl5tkbhwaXtseQm4jN\n",
              "ygVLffymXIUUCs5AbgcDrdm/zExodsRiyCPNvztzaua1MDEZ4Tmvz7N1//rdUYc5ebDNZKspEH6C\n",
              "Vs+c/+5t781GjPCzSfieEZlDgSs7SDXx4ICoqjctAAAAiUGfLkURPBD/AARVDtTr14HnpSF5hWyi\n",
              "z/lkt6mvksrAYATQ+/umyRO1Lc87XjihmrQDZado7PDzHWw0oBIw8Qmiy7LlcsS884k+I8ZHGLoJ\n",
              "Qye+g1oFUYbq+F1g03KUu84XLXJ9SV02tZzT4Pgkr6gIhmT/WudeFCr121DxEmkA4T49k4fCOIGV\n",
              "AAAAUAGfT2pD/wAFHR/dVJRzoe004+j9lsJN14ASuMaomMEU/jHYnVVBqKekXtmLDD8Fqa+VMk3A\n",
              "28/VGQEQu8nLuTeN7h7kXO8Q8e0wu293nCkgAAADC0GbUkmoQWiZTBTwU//+1oywAHHQ7bNAPJYA\n",
              "RngUzSXNE42sgwIbEw9jXQv7olE68SiyHqQYEhM2DkGt31AKd3MBExDKfpHHIXHV74wk04sctihD\n",
              "lDpvPtnM93Co40V3NfGPzJSqXWqLsJOX9YSmcMwu+HYFX6HKKX+ln9ieRzrnDwEpKjxDOEkZW8An\n",
              "m+zGgKMtWMX4LSgcVMtMtksFQbDFtLKr6yC9PABzCF/i+MWkM6QRKj5su6jk9MrLxzXL01OGeq7m\n",
              "DuZP6XxRZ/E5VzaPBVrrKBdQz1JfuVdm8H2jNJgDolYkMLcryjRSghdkpo06YHjEO4Y3OS02zrls\n",
              "XAAl0winOUvzWTQBYGV++z3cSR0/51sB0+ONOCoP9WrFSJylxo0ZUUWIs2FKXMvh7aHxPNzTu8Xk\n",
              "4sI6xRHcsICgoEfKcrRNAL9Me/cbUH1bevzmBsbwAScv4ReWPyQIKTPI8sR2nrJyA7HWUZ0N1hWF\n",
              "1Yg/K701Qjt7wvUtvoxYy6x50XqnVz2Uz0n1cipHjXeYobJvrLsKjsPckgdEMUWJupfAkV1qAr1Z\n",
              "aTcFldS0NJATAXklqGCCM+5RcrgB3r00BE4D+sLe529QkHRoYHE7cL6dD7HMZr7xJKiaEng1HF4D\n",
              "dSmjUadk8hs/PAQ4neZLRHzqvAMcUk1it216HNvBxc5E0tpwa6wkjVi4ESVzVVvrixqkymmDiIWi\n",
              "HVjYxQ/aKfU12zshjBAeDVc2YKGmkyyydSrP8ZBpxvXwha2/zZtE5I9w6+t2rqAXABALxgC9z+d0\n",
              "umEixTsdgfj/VzKzRuJ4sw0Wcb60avLjYoa0X4Cec6frf4UROUmPTx3WeVmX2U8c8pGJdKloNue3\n",
              "8tuZGMVDvdyUbXuaz9Mq8gBWoPOvej4TRyKAdcgWysP4upRgQbxJvRoN9mmxm8ee0J0DbPoGjMoM\n",
              "5Dx4HObB9uqojNqIjxseZPUfLwIBPBlTJaZMCJd44EpdvijGlpE92tRPATLC+GaDLDw8eLZ1NXTX\n",
              "A7KGeC+Ep5gEzAD/AAAAQgGfcWpD/wAFHXTryZwrlXwft2iJuHgqEm7KoTH84gol6SV0nyK45QrK\n",
              "kg0Binw2Q00LVx9P+ewBUkMZxOAv8j/pOQAAA+tBm3ZJ4QpSZTAgn//+tSqAA3k3USJi7ACSyE/T\n",
              "GXofPDJTOVg7p6vSbm6CAfTvB4UMXy9Xd3BstSJ2eXGWiAS1csMU3fEvAf0/h9KOausyTnY5I0yc\n",
              "lFoOPVS9BqjsBSkcae/tnXQJt/91JcdWi2GA7Gafpiqb46KgaFYY/OnjkOAnZwG48w2/YOHCLW6V\n",
              "+o9TXTH7w2De+sg0z3zAOcYSNSo8Ntbe9dP/+3kT+IHrOuj9J6hQWawjrXYllO+4Nux3Aa1QgleP\n",
              "arl6orzwJdZCaqoHYx4iFMUfl26RmZJ6aRN8551kwOcmVE/q+NZrUfYVCRGKbZHV0kqY5p9V/+XX\n",
              "QrnObW95H72rAo+R+CoAefd6mBMpFZKiCFOUwQwOEtFMW/GbNexmRNt4I1yNv/40/uSYU+Dtv8Fv\n",
              "pWL0VoQ0fmR4wC+pYXAIWgFF2fV3niKLKweulb6c1uCZXINOXQFF/dQ8r3CrI7rLoktuZWFXUO6X\n",
              "UvVw/gr9Qo4PkszxPsN1aqmZKbkWI7Nf0kxVi/eVRemLBBEYIHlsHnx2pTN/zBaB6CBbW12LI9td\n",
              "BWqprtXrnpgqG0l6kI+aPYCSL/7q3V6rNBVRwAKlKV+0awuIsyKffiLEG4AndhC/F4ohCob0sGIa\n",
              "1s0MIP3/oMFC+kyB90/4CFgBn25qOMjq7mGEnAKQn1lA4dF6nnxg2Je9jyGcHEF+wuim6ky+Raml\n",
              "SdDzAPqKy5pgwMoS6WxVbvyXQ408sy1c5lOaC7SP1hg/B6xFRKfoob06yfbWNYNzLNUxzD9AF5GK\n",
              "zdZdIhFIT7JpYz7UM8zgz2cOYF/YAmfTcgMjunsz9jMEEl9N7qM4NJDHcEdlhcs2RJHd4VtUrRRl\n",
              "Va0Nr9BP1KIXlRpx7dq+1y0vUDRJj+skxDrd/Kg2/0+V39JerWnXHqkzqw5tQa31J+ItN4co8T9/\n",
              "wMOcXQul4ozEe45CqCfCLeY5bp5cwGPKb/yoFpli1QX8GQAhR5j5yLIiiWeExXPL6dthClV+EuTS\n",
              "PXMptXJfaeuYO3a0hZ78Z1e3ohUtWP8nGxhXSINfGf2eZ0UN9RmsMATHkQM5S2ghA7BUiU6ds1pu\n",
              "lBHBtSHgnlKnvEkmRQGeKdrJiI85HI0o2m43tWbvFMbmc5op++Os4wrNB8sGIiP2faWXenmW+rmC\n",
              "juMS/cMeAaLGz1HB7Q7ke/HFDLhGphz3wZ2ahQJby8Jqon8JRfbSJPpoPEmnm/Ovu5VmpT16N88u\n",
              "00WvTVzZNC+L/nTzoPPl92+9EusavmMZ+Hd26JQ/z6TxbBXlztgGXvmMcFOVS42/mPWhvxUmHYX/\n",
              "7/FmkYGDAAAA40GflEU0TBD/AARVbk+ANsj4GqHBUjBDqgwL2/5JFv9S+O8pS4wv033/N9uPlPll\n",
              "lg52EZ8jXlz53D+sbdE/1296My8XDJKzRrb/QELLvu7Ma55ucKS4Cfnu6ZprpgSmyPjLNCfWUnyn\n",
              "jhoyMVc8wXJmmeNng2q6p2X+OmQug6Ahr8jtA1f9YgGdyKroWCTKXdnxFdbqSrYZXnkEYiOsxE5m\n",
              "YyYxaXMb2QiOqnrKjrx3sbleJM1RNyEFQ/Z6Q3JBGrS2BP3PxPvqJwquJXNV2ZfXrdOjl/DBV/za\n",
              "LwgwAOEM5GyQAAAATQGfs3RD/wAJrGbIRZDXstmIVnGiG871NxdjRlJ3YQADiT3U69TUCk5DsjUN\n",
              "x+Lg1Xf/JF475i2h7mNFWFc35+GOjCrkP0vw5N4jPbkFAAAAWwGftWpD/wAJqNP3kcAJ757q+yAr\n",
              "s18Sj3E2wy1kq4/jdki81HwI9pua3+HD17s8VokQ8RUmxIDD0sQBD7xTJUHBTasUkKNrxPjBann9\n",
              "mNDuhLO0+aQYO3WTltAAAAMIQZu5SahBaJlMCCn//taMsADka5lUVQBZ/UF+2j9GcG5LDDwuEnKy\n",
              "Aq+4dPI7eDgvVrDYIp3tDXUaol1tg4z+BWL0TzLcxCfYIfoV4yUbhoSmzgI5x/mX2YPl5gYXsqoC\n",
              "V0VDySHe9X7tPve//jBE//CtOLAXEPrkdQf8sA4nPSeRh6jy6jhqGHc4JJsbHKmd8BMHN+fvHMiH\n",
              "d+5AJjnYDsFeNgOZWalPVGhTz37BpewswFKn1chqP60elvO8qaSJiczGk0bGtS/uH7VDC3ZJAQWc\n",
              "vDLQydK3xL8dGFQLnNJLIwrje7hyl1FPHKCUpVR2gWYr7u9eezEL9hQ+vHac2N8mK167VP/S/KuQ\n",
              "MFG20yA+vYhzor4eCC54V+BKC4uYcIHzlGeCJVEfHaihr4z9y+tcCKupPOjHYz46ZtDZiCuwuCxg\n",
              "J5qQDaCgv9OIM31KLy0emM2o06SY54nwDnXSI11K02+TMKN0FyANsKTIYarsRuSls9Y0JJAwTXcK\n",
              "R8YU03d5CHEzhnNG7JxaXoBe7yUC3oLGSaD/BnL57eWhYjIMteoQxc3guLqM1XcduavbDxrnn3ng\n",
              "rFb6lbbgty5BF8xmPNJyZrQ3oCNU3iA5V7ZS3yntaXv9wvF/bzk1JArADV/RTZ0pUu1tZkHSpHC2\n",
              "PqnDwntUh19tmzUnL2sKurWKq22KbQqGhkKLWJ9YSe4t+BcJYrdugv6d16sjFV48Lcw7Zb9jpUhv\n",
              "Zjj4O/JxBJRUR3EXCjkTtFw2E4PlcfX3zykI6i8+/euqYz0F8FSXsLSfxppht7iUuEhQgMkBl2/K\n",
              "UivQCuLpBz6/URbyYvCks48tCJ+WQg0PQsqZGba2ouDHgEg45Q+e3yBhENF/vOkwcD/nOZUX6t2P\n",
              "r6/2NpsbXGZUoEneB1r3YtfC3PZXtUZK9dgJw3dDBxvn5FKnMUjN9tVcgv7ZWELcv8hrtXY419UC\n",
              "CcjbXim7FHjTsyBpBi1WZ4ezckuGU/E0o76186LB4S6bT48+SbnrRdaOuooUM7e0YYuxFXEAAAB8\n",
              "QZ/XRREsEP8ABFHNYIM/gACtx9f5sl7vcHyi8Dr6g7jefxJdNe2rzmBf8UfCgbS9Z78drCRTjg8v\n",
              "iyo2jTHWs5L2ZlAvShCV3rWdXG52fpdHERVkrbFQUC9q+7tpbsigyBlgQlRKPcuiv7UWcXJi1MzJ\n",
              "mYr46syHttAKvwAAAFcBn/hqQ/8ACY4nL/dMpgAHHBlIW8yUU7lf4xyGq9oCNu8853wk3yr64jvY\n",
              "Lsx/ZNwKNhUOWCSDdWpLsRJPKZRmnt3OKYU++yGKIFlk3Pb3hY4yaYASTMgAAANZQZv9SahBbJlM\n",
              "CCn//taMsADjoTnFtCuEsAHGcK9+fbagy16oF65kHj71jKFJ+6q9Brw4WiFraLXb1wWAbus9QYxi\n",
              "OIrORK1OPAH7/yRoHTVGd831l2ZgFqLyt8nd1Mptmn/MvGQtn00NczWaOen09gpSXLVAh6vKlNV2\n",
              "0D0JFvs1TUz9EsMzmrwVzZMz30N+OtFKk3QM/46TZgPvuMTmHTk3WuxVFrWP625l+2PFbSlEv7DW\n",
              "N04+PVZOUueM4p3OErhEZNlTcQUY8cbAAuSPBPO3SKtVzlgRifEv0TPAn9qFQb3n2GIqVffIaf7G\n",
              "GAaLsjgWq2shke+pmnbvYpqghrZnUzPx7DeZSE/34GxRqQUjxvthFxAnI4V2qHNIDnrcUc1cxP8F\n",
              "sTNnpsRXIgdD+guDnlhiAN3ReL80uG2Jnz88D4TudNouS1ErB4CW537YQ8oy7Q8qauxcbBqghDmU\n",
              "kSL9cxLfgWSixNP4H1B3m5lt09p+wTQMzRogs19M0czWEWG3UusSf0olgH2TotsJQPW6G8EBjPer\n",
              "Oe1ye1RPaSiMAjAsqnUCAzBW/8bHK5xMSyzerkGiMGHb0hbrMKFK7UrXb/1Fkebzv0A3wZW3ahWC\n",
              "9Lo7ZP+YK7GF3w/96BeMC8T4sqv84i0cjvedZKo2Y6sND5rWNevuRFh/+ZEh0A7/1kgSQYSQGTku\n",
              "xGTX1YxGpMa9d4GV3kdIQUBi4hMxPGZ6ZDsCFxdCDI1LzGmNtfX5Ptf/cYI3pzqwVf5/bN1buDz6\n",
              "5iSd24lvKVWRnBIfoOiJ4zaBbr+Thjo58WAIqVjwVuKINJmacHMn/YyefEUkKa2anGFWTVllPrjy\n",
              "9vAMC2XFSs5JO/6QTujsiRd+fpiJRgSMxsmW9BPniVvEPgDWVSslSpy//mhH3EbXRRwypHYaQXMx\n",
              "4m4Qqz/Iv0ALwqvpaOOW8Gh46GevCfq2a7RSEmchlbexTN26fNP7Ca1QKHCj6WHUqaBhwiXqrw9w\n",
              "trwEkukWHMQApai6kVIxsMiKWimVO+DbprN8YvUyUod9iiSZYyzdenoqzkbmFml98mTcwsBhfPif\n",
              "WxrH6MmtreIY3yy2mJ4KhkITq12fDFuWKMtWAdMlBNui62218LV43NI2hhJCTDpJ7ukAAACPQZ4b\n",
              "RRUsEP8ABFPqAewAA0+572orT753ULgKBUAgPtcwhtll/4qAeojI3QK9E7xmiByZcx59YyT8qvU8\n",
              "bx3RlIGpTcOttb2cv6ylLRzS7gYwu14AEyv8Ouz5OimZJLZNLzARM+EZIWKfG5Kv6pDrQ7ciwveC\n",
              "mm1BT/Src81JvCF/hUpHistbtqeavQRyX1QAAABLAZ46dEP/AAo6l7p0beXfUAJbBlDM/zhd7hVJ\n",
              "1hJSbKarPcP0u0IIzcmKaexeyhuMYu+1dXTqvg/YYZ5ImcXEZW/t/rGnv1doa4R5AAAANQGePGpD\n",
              "/wAKOT4CHf1f1Y20Be1RrxevmCYgce7oMWOGYR3La+W9MwoDWYr3kU2dlPqKMAcdAAADDEGaIUmo\n",
              "QWyZTAgp//7WjLADk+UcAHsrMGDl+Oz7lTq5PUkKB3XmT2vEshbBmMG9DXE0wOEaiVtziDFfXKuC\n",
              "qjBrdegpiVY/qbvKwmWJt9+baTqbGK+JKUDjcROSPpZPGRfLqPkvBJ3p+ubt1bkBJzDIUG7xucbq\n",
              "ocqP9mxMfP4FIjDjnvZy5Ckqw3nvj1OgijeLz6+NvMDFd09SdD4HmQPsFOsf8eZHgUWL++ApWhO1\n",
              "6Yzeg9308pFPd9NPKOuYsuBBuUEIsnMK+kqIknzRn0jPk9T0irYBvocgcvIyLk70dVHkO3q87R4l\n",
              "mZuoWMI6G2yM7x9oGyGUjU1SeWyQSwCqnsodZt/JH3DXtQr7EkZ5QlVItzUF1BO33PBXPW1Gcjvw\n",
              "Y9hCBN0qbHRHjVdIOiv1fBqhrYXmT/sWwnq/IEY8yeElhzHQfXn5bRemkLxEEK5xTXDKaRCdifmY\n",
              "LTaAfvdTONX1W9Nv4XtCdGGgR9lzHV0bJu9nVGaT/EO35zDiLGSCW/poGbgE/0ZKeZB8sIg07OAi\n",
              "/0oCn7/fORE9ccNW1SEpeJGq6d7isGH5AID78lYZsi+7e/yE/gDeog3YSenz1AzXL9k6UJVRN7jA\n",
              "AyOorTrtgfsxeA8AlwAxsvB8ID6VnFv7VsuLvpYLzgwtJjadOcTW8xOvTMjBDVNstxihzuxbo5Zq\n",
              "vH3RdtcLYZIKvpQFrElH9WHhCuhrvkGYed9/h/99PeMkm7sMnIJEQx27d/++QguO6iqvjpBm0Xfo\n",
              "UfxQYnBGJQ/LoZNx2KVCF5CgN34ur0ItiL0x/aZ5GTVIrHjh1Mn36env2a9g6JE+P5N9fzbmIa8l\n",
              "sJNKsBkKl/9Slme5jq9EzztqZCwcCZtkxNMTGNTFqqGHZ9uRAD9pchVx8ZjbGwegVntcr8Nqop9m\n",
              "txuqwx1Q9KlF7wqZ3dHyvA3CtUF4PDjMYAkO0T2nyn+0meMj8yX0QanRhVMsNJ3lL6IESv0LlvWu\n",
              "P1X7vC4QzTV0r4D1ayzKjGOD5hnBHrJ5nNiiEpU3yyyubAAAAFlBnl9FFSwQ/wARVD2OvCWH0hCQ\n",
              "AsRqbr+SwFB9C//bVQhJs941lSG6hJmIj9lmkWcyyirJnttb/R7VuYVgiqmc/4NVabsOb7A9VPgt\n",
              "u9TR0mCm/p6xUooVcAAAACEBnn50Q/8AJquU90ABuK/W1Rho7dadefN6dxW5SpU/gYEAAAAhAZ5g\n",
              "akP/ABNZWgkGieRZLPOTsFwD/KTr+SulzIiD0DAgAAADpkGaZUmoQWyZTAgp//7WjLADjwREAFpH\n",
              "3fiStRhyrrmNRvZz3DPZ3O0WArale68jgDuDM0NhExBwobSwUYFSC2cSMNf2KvzmWgjUYuxYx79P\n",
              "9w7tWbWLOd4+5peJjpoQcz234gq9p/h2gQtsrYksoj45fFkrWBmhf++O6JLmozFAODMWCIL1/cu3\n",
              "lfFy4/VIc++Sij/fksDtO4t2VhF2nBQBXrfLirc3bgHuC+RIPU+3bFsjE6jsNi3Rgj/r7Yu8CmZ7\n",
              "EGhKj2GPooyfLw4ik5QZXXyvHfyyZQFpq34ugwk1kT/lgEo+ahqSxbqYDwoM+wfQ692SM8Jj5Rts\n",
              "ULjKZiDAZEY+6mlPCQTT+ydIhEhtAUpAKvOrKrIuwUU5obMcYc1mYbCC1ZghWxeIV8CFpafQmp4L\n",
              "V2Jp+E3OEXgOWsOOEKAzLHbF8KR8Crov37MHQx97P8h2X31r4Yt+jPI60RBXVDsyCkqsJSa4pUCX\n",
              "GVygDO5prUyzQRb42zCriXaAweldkQuVzwKA8xxx4WmWWH916MrpCG+gCd5wWsxIgZbks8yt/4Hx\n",
              "baJEzsgEuPVY5NC/QUYxu9ymbNBadpyxaKNLq+bhT43w+ldmnarovMGp5KwcnyRoiPkD23CvNG4G\n",
              "rANMzaeVZqz+aEiMSHgn9QD3T1ezqUUZAzsGi/1UBUN8RTgckr9WPUkKwlzrPJ0u+4+QF40YuH24\n",
              "7f5RR3dcg2i3f8wG+QWhfGnLMK6i2uE588adqdTJmptHsk1x5a4eWUgderc4Mw7iNWX19/xApbBj\n",
              "gXh6Ektdkj2DNFo47MLf2YQqZr2S8AhGV5nzJ+QGFFPWZtneWra0P/eT8lgU0XFlZHt3hq+oy0Wr\n",
              "DP6jFmwAlPr//LEzT/0ZNKs2V8kGe/ABfYXMhmMZTupxqYaF2TLXMoROPJ4CcMVeMaUqmfnMDIQX\n",
              "EPVmw60ZPQpgruuTkK8EMQDwOxCFbKbUwBFjtCL/+6RVF7OZjupuhK2LFvE1e/akqx193d4h4RSb\n",
              "qZy4AJkYXZBvwIQwrGlmXpdEcZ3t31ppU08Rb0DAJKdK0etV3sWf96FE4SbSzdj2QY5+xfM0d5L+\n",
              "ykREo5nqGTP7zK4utOaBe54+NejeMcYjq7xZZa8t8LBl0Jf+TDdvnEY9niveSGiuIjpn+IZMn5AT\n",
              "q/4Ctw7aLdoOWthkN15LRPwxdjtWAjrccltcAuI+QUChLf1hlA+7uPGRLeJsrEWR0TaozFjyZ6EA\n",
              "AABXQZ6DRRUsEP8ACKt9BJBOv1Y2gAWLvPKL72IyB6wmOupCpjyeZEoS057AZKK7kF7FwR0wPr8J\n",
              "OZY8t+K1jqf1dL/yP1016z9oYN73GsWvuISAjfV6DCvAAAAAIAGeonRD/wATVi3OdzXhNE9p4qvQ\n",
              "5R3Rugl1c9yuQA1JAAAARwGepGpD/wATWIdae5ZiwGyp2O8I1COjFSXwT4F2XtW85u2KwAqvYqoW\n",
              "4PLYVHGswNgmDAwJnu6jro3n/YMjg568of84A3LvAAADVUGaqUmoQWyZTAgp//7WjLADjwREAFo8\n",
              "d1RJsX87exhEBgRLGeC+ODbuD/J2wV2hWcQPh68406SwooLeVYG9XAkoY+N4SJ7LAOHy9kp9d/64\n",
              "HNE9u2fklkD8zmcLDgjWxWj4PJanMXB88j53np2S0zFtF22cHLA82P15gsrEBBeAPHAaPovFTIcN\n",
              "zSBkcfq17e7japmozoWAViKHgkyJiYrGaW5WHqR3HpFbaf4rFmjMzBqvqw3zlfrM6/LLyzUXV4Kb\n",
              "TUbUfGuf/uPML1FM5gRR/NBJOyNVGPDp+AWYd5a1CQUmMJegg7I3KBfAnp7CUCQZ+nwvqjNLaJhB\n",
              "Zakt42z/6We8LimX/yTw+RAK9hClsdP+PWTKSLXf5M8WwSHxSZuWIX93MLPRRfWuR0CKXEmjAwrb\n",
              "99/PWxzceczXbd5Dtus4Ahh3keIWY9AvzTvyt3zSM8bd0byBgPEQAIICnK5Ni2q8ciGDtxjAb0gy\n",
              "OXYK2GQH5GK2npr39OC25dXOJjwK1cfpvzmAEftyM6IOb2QRvupsHUpHYtTiz0UKBtUpxZPipshB\n",
              "5xOcBnGsixhYNOsf1lIxY6eaGL85nBBGgJM0BsbNlBp4eMmUfneHnYfRBRi9UrpL0fNFexvB94e3\n",
              "0WqmqPPejA2hjj4mxFrKrBiKZXo9Va33eSKDL7rTTnFay21LtfJNilqeNp+F0blHTKe0USchVp6z\n",
              "EYngTjjK0eoYZntEq/JV88u4xVhs/LqvO/rILCAEjcxhZOtm1eDpLCOt6Fv3zQfXYdcjD7+ZevPS\n",
              "hceMn7QsQVhe9uTriY35OPkCQdHkLsHgaX3FH51ty8hSpmP01akZqUXGev05b/gDYr0lD0U3P86W\n",
              "CeZYN1FoTCXKuaL+SOlCC+Kb0ctn2TJJPhFxIIP/01+vDO5b11rwzEL3OnhoK5Df9fDcoQ6jSr4F\n",
              "7EiA3CWPtwX9kbA9O9lzveSPCAXTll8YvNpcU6HiA2p9TDdAWbH9EdFLf89KrQD1738IYts5+QQy\n",
              "P//ZRDriQJGGir+6GS+eAOO2Vceg8MmjxdyWeRxrGkrkrfdyFzncOJxJsn3sB9iWerS9F9JwllRU\n",
              "6XEq5aLaOkTzf4uOhEzoqDCbOP62UYo3UeGwY7VfoLEAAAChQZ7HRRUsEP8ACKhTURaFFINCCVq3\n",
              "EAN278/zJAe0CjA5QSifP292I0vOuoftaiSQ0NZNHP4/nPwewvbP00ByguADgMv+qFjpaHbscsnJ\n",
              "NmUX8XQ50S7UGywsPYvh1lKYFJ6d3INrK0egC9DeS78mp8EjXcrTvZL12YTIhbmbufpFjKN/AGce\n",
              "ys5SEiZUmTwDIqZ80VhLFa0MFFis2zKOoIEAAAAsAZ7mdEP/ABNUNanOIWM5K1wJ7yreXJwh5ng7\n",
              "aHqNhtDeWQdYKtXvs7zJiLgAAAAsAZ7oakP/ABNXgX/CsbvtDOm3ZUVOym3JA1+KuAQoyFTZNGu8\n",
              "muwR7QxpHdAAAAMIQZrtSahBbJlMCCn//taMsAOPBEQAlo+7Z3MpzJiMlUUlWKDeqgLc36A5WrPo\n",
              "OjrBrw3Mos+ENKFl1uSVdjWiQgV8+CYkQKs2FTWHVPDRf2FzZbqmhlXTSySF/5JqsGBYXpA3Cs9d\n",
              "avEO5uCw6LbipO3omT0m4s8j8wu6l/vZ0NXHcWvk/O/FZygY0OlQPK0CRE9hjBiX6fFzpI5u5lpS\n",
              "gy8vkka2KDo4Flmnbwp8yzoDnKHoyz+BgkZSnOFBpeT3X5m5UVvAw75bRKOELpYwX8bDnutyoNZT\n",
              "aEX/HrLVtNsE7YOBKgPNvWwzNBUgwGMIkYW6yqFvUL2dvuWQhSLZiFIwKGr8oHBuwpUIFjCajc1i\n",
              "ngyjtKN9wt4YiEASRnJ6NhuuMHLfnO/uiUePkHaxQjX+0Ke3GkpL3gE7rZX/r+DenDQz+NSP/VeS\n",
              "kaQa3QgNgggPnDUgrzhxisgb4yb6/tKW45chsnGC+PynyHYe8P+e0gns/5PVpgTRXG6Lu8e9ZNf2\n",
              "IdPlSPTgnENsx9JX8mf2Q4AeVXButMbEVnwGxp0D7bsVBP/MM7CP5p4DxwG3yb6n/2geccRVsvza\n",
              "wOMDXPzZVkz1rSnCIJj5auoUVF24E2rN4ucunnXvMJDWgTt/0+FDbfvz3/SRVUNyvOT7glOR/pgg\n",
              "LG6rw5erYF9DlTZ5vB3FVwTNRDaqL5bdGf3k7qdUFw0fIqfDWpxtz92fTBOkoLNH9Pm2oF0ivrXD\n",
              "zfWndaP53Z5A+JEF1IcXQPeSIeN7NCfSghLI51lUySUd+SXbqJRBjftW5EZWB8ZixKL9Af8FYdBM\n",
              "5+P0c9cAGZyg4phXRZOQPiK8k7bAqlqUuiXZ9pDF2xMmrIfnbO+yajxnX4YiWFrz3sJTimr2fR4t\n",
              "2oCytdepiVO5HgdRG9MydafXsSbmN7DVufyZi1GLzNSYzxac5NoqAYOKOG0vsPzukQRfCSrXdDEE\n",
              "jNTWKTW4XrdPVBA3781vTcuJTyZp0oV0w74gNtWbyD5tOJkVAzjNk84oW75lOi0AAABhQZ8LRRUs\n",
              "EP8ACKc7Xk7OGrriNk2i15nc501wEH1yEKo3GL+7gAiaxsnfOobAbK46ZygdURbYefFMyOCwPr0X\n",
              "WJ2wBG1dssMw6+8b1wKrVd+iW6u9Tdp14JNR8Y/2Bs6GLAAAAE0Bnyp0Q/8AE1K48s5ouVDqaH3u\n",
              "DqLe6n1r5Hpipc+q1rvuQmxQFWHAA3nfUz4xOerl3Q+gaYYwCRzETXAO7u9gGATfq4LXk6Vne2jA\n",
              "gAAAAFsBnyxqQ/8ACWwbTp1zIjEBMYfssALaLzOhf409wqKXdPC4OrsnwvtaFf3/45uIM9sR+5C7\n",
              "o4LLCo9d5vUX2jUydG9GCJIoJ7pDrs5KYP+tbuUAI7BJ/Ch0gOOBAAAC30GbMUmoQWyZTAgp//7W\n",
              "jLAByPJoijzF1kNAHTHWTljohqz0aQ0sMWKj+GeezvAZ66OJ9mbOnPCTVGHTaAJoOO74YLAQt9lc\n",
              "PXuwbuttX1+dTg9ab7iLtqVqnhsad9DzTAZbUdnCmqjUhxh1m8NhjZJ+1d3VD8r+dGY52DrXn8N/\n",
              "qBBqNDUVjDSeg2Hm5y80ht443I9wdT6XETvdpOzBAQTBzPL7q3R/H2pJmqFxNj7/IP7knKLEZ/gS\n",
              "QbHzVQq/HGSre955faLK5PwkUCkCIEc4as1ZnBz+kz62ybcU9MRmEg+FD0vmWAaN8VDJy1fz45xz\n",
              "GOEWj79BsM8OZrtcZgDHSl8VFsp0XvYdBI19esgA034bMzW3IXwZOAenCghC8uVEtMq6/KWhgyuB\n",
              "omErNiax3GRvlU4G1KpR/eRnRXmN9+fdjVE+M4MH+Wo3DazjM6DbC68+C6RUqrXLfe/EoR0ozLo3\n",
              "H17TypHmY9EjYim9hh49wvXU5EkccM0qsIYIKe2Phez6hJv9Rc3X5Qi++o9/MPHPjZtU//TpRuR3\n",
              "E8VN5QOB12NuTIpDrMxkkC+hhedyfko52993U6FEi1NY19nCCdZ6xqJSrtlvzJe727Rpd/k0DUBw\n",
              "6PZRTWXr1ZcQ8FIqqDsSp+WkfjGkHLWtWeiwUloBaUmQ2gWlc+LnzzcQyplwuEiw9aWcLtOTTa0E\n",
              "XPAd9RLyq751UDbP0LBfEnHLCLM8YG11B88ILUnnOofY5kWZmF0Tz4gAKfFiqfWCrl+oLzq38DTy\n",
              "9uivghEk+Ykjs08D+oll9MPSjslgvsehcuued+W6evuJSQ1rr6t4Zk+1Cmf2qNfRZUMOTcv/NgLT\n",
              "d3grvYf0mNKJaXB5mWwEDVMg8tuAb2KZGFKsw9GmxFXyfpr7Wvi6titRDad/47/+t291RYtiFQrk\n",
              "xepfS29vSnXE7d8rVF2fYqsC397L8FltTrjmaJkaXelzWD2g2wAAAGJBn09FFSwQ/wAIqQuL0Y7Z\n",
              "9JjsuwPOGz4eZ6UOyJXDmGyaOABxU9wwp/6X57Q/iE1mT632Qu35sneFXW9kWx3VQkffEWN9Ao5p\n",
              "Qq5vMRBD+Dyhi5JgZvfpXH7loVbImr0Z8QAAAD8Bn250Q/8ADX3SkEQOW0xXwpWojUT2SAFj53GQ\n",
              "mCdZ3cQCheGAUZv3XIqJK/c39P0itFOBvLh6i1DpL3VfcPAAAAA8AZ9wakP/AA1+aZ0V8eKulCoa\n",
              "3cPcTeNCmZhAC3ypaBVs2qt3kTvjJ10AC/4g351a/vUxWWlCUIJwrK1IAAADQUGbdUmoQWyZTAgp\n",
              "//7WjLABxzfPxSsYAAOU86Dobgqu3RJTaYtb7GLFbq8RHaNND/Du4yDiU308xu7Glm9+GkXgAAyn\n",
              "FScV2c1ulNJv4pIU9Prj745pRgLXGx9rUvX8leLvJ6dkZqlDG8hwZIP/tj/5vz8dubLKogNC+A6U\n",
              "E1yiTqbgtdXec+xOfevhilarCKt/J2kHSyCDrbs29FiGXjkZ11YH12hJEfd4aQ/Kfr7BhmYsJgp4\n",
              "clmt1mhMBqDzd186ywrMN/l1Lhqicu9zo9dsHru6idMuf2Fc6oZQbVdew/G3lQXUqhWEnF6GSgHZ\n",
              "6Swkq52H/wNrRn/XptMlvNa5hc7rtArdaiszlM4LnK/pUaOG9dbJHlmOzs2eUhAKt70S+5/X9qul\n",
              "GVCczmBmVF9WEPzA/VLYR6W3fkRl6fbWpDkjxtkR30PgHlh6GqUp0Qa/pkU+5uAqlRgMC5G9+7gR\n",
              "7sYjrWjLzNW57ZQHT4mAhdeHnkwqR9UZ7L9s9KooiakEZK+7ZiewTyKRROIbZVZW9jP83C5/TbEM\n",
              "p6Pfsl2u6Q2ZxKus8IXQ+3d+OMW2O6A7tcCw7PNUAy6gMhlut6ImGZbkoGGwdyzJSF5grdKD6QRQ\n",
              "Sm6WomWAdAsz/k5cdcrXuVzbXACFb87E9bYMis/EJ4993GkxNi89bknZS+zDMTg4vzcn51KdsrFb\n",
              "P5V3pnlVZOu09du5a8sKB7t0kNvPgI5PQs+no/ytbKs35DwAarHbNKZlV+K1kT1zPM+WTRo8Zwtp\n",
              "ns2kT0gH0I0rllW2PqH+k1Hcn9fMYBYi6SQm9SJfUqBSRv60UGMI7kUIMjN3or8yMbQPr/fujHh/\n",
              "554zhUgMzpJQbTpPN/x4xApmTZA7tsnZayBrS/rDxgnzonV9mQtFBTH4kvlZdlTV6g8QseJjupu7\n",
              "5RHcxsuBOQKk/hl+4SStfqI344waGy5cxutK4DIdfbQdoKxJ9eNDUmqIjavq/ZNhNb18pSJ1L1RB\n",
              "3EOfP8FJ6zO2MdNeWLxIlm07OtnRU1OtLx2fnJwzY14W086eOFL9brVXnw0s6FM5ZrUjGf9qXs+f\n",
              "/SqlM9l73Dmb6T4DEvg7Jnl3pZ9EKLuBAAAAWkGfk0UVLBD/AAirfi01tg8l2qV7q7KjYtUkRez8\n",
              "+6OiIAGfeuQS7aFZLNB8Kfv8xYSb7TvNJ6nRROulLavq+1ZsazujnGwRT/m1MvzJva2HRWFBXcwU\n",
              "424u4AAAAC0Bn7J0Q/8ABRxcCB4ATDwUPELJFEZHxAVXTEZOc4InxukiHwZsKAY23QZ0xYAAAAAq\n",
              "AZ+0akP/AAmsG009dsD/TufWNjpnfgsyw+qdpaTMKlEu1YzKJla9AxKDAAAC6EGbuUmoQWyZTAgp\n",
              "//7WjLABybXjyvUpTqMrQB3mtjD9OirNEpLTeY3EesiugiUfj+IooLzd5iWjS42gbTKv2YmaEc6M\n",
              "dzrzU1My0aqI6MW/dFt+8MB3pKWEMtME8AACN8j6c6nLTgBeWFchcUzA6zlm1JI2wqiWNLGQ+xwH\n",
              "ElKpHzsRpGOnNwB3sn1wYGlmmq0B1XqEdkUS4NHvgoZII+882G9bLaZRW8Umr5SyWX+D9gN93JLx\n",
              "EO5npjOWQJw0erg3bEHQb6ncRbt2+v+zkwPAqbvVEZJOlZbl0AxSICPy1e+horaJPZiJ43ovVyEI\n",
              "tV/R7vS78ZgBeu06EM+Ytc4qyaKSLA1SeQU9EhkzJ7jmy0ILTo0+KtCqmtH7LQvw30UaYOk61FWM\n",
              "CM1uIVa3ubaOwj9V7ZmVb7FkZuoGeX5dYiNgJJtD2nBTFuWD4x0OlRw9anwDTtdxoyd+XlSXyjRu\n",
              "hXyNQNH1cusyfKUj5fNLWqxop204lO6EzJYwDmvo6E5S4KCXGq+8gbo206k2bfzlHPSM/+yMoM2r\n",
              "WA6geoPNRnpWge0LACaAQOfuFmB9qCe3u5v9mhmWHUbDlywm7Zx2uzwJMRrJZa4/Pvvg7urgQlmc\n",
              "h/to/mYCvDnMA3s2Mni96W9H3rjAJFOrFc+lteGip+kWfV7KZQ1bFsw2g3meViS7T3XroGwS6xpf\n",
              "yWrFBL4u8CNmILD1TzUxntAo1aZHOAYNGXDrw3ef6DS4ywfyiVDsnQtA42mFhtPqGaXYVYdNxEA5\n",
              "MvnUOdC9PqHT7tXCOsonMWcnLscQMCu3kb3yl6Tcu9LZOVFxTTsSlbBTtzGmLqWBbkoUpyMFjrVB\n",
              "Z4spmtKIKjD6pSK+/ibB7zFSntAr6ceiRJmH7uW66P7ncqucXNzVVIk2IBk7rHi3dwoqm/43JgbT\n",
              "Z3+SWkKLnHz+pvNJ/8o+H3R7T4zVaLuPa0hYgN8E7feSrc3ccwksjIQu1OkflItJgAAAAEhBn9dF\n",
              "FSwQ/wAIqVLd60+BAs7Fs1ZSDRc2sOM2ZVj7wKxkAHCLYihiGPXBTKkKFPBB8sL7jsPvEz3XdMyC\n",
              "aKJaL1I4rS58h/8AAAAXAZ/2dEP/AAUcXAId9ghDMCqun32RoLEAAAAoAZ/4akP/AAUdH9UEN8d8\n",
              "agfRaFnlRRCc4Kq6lT6nH+PIo2uCUAAoIAAAAxVBm/1JqEFsmUwIKf/+1oywA5PtHDPXrubC4QmN\n",
              "LUX/M4CzkWsfCvAUlKAWG06/9eAXRNHuc971l3YeVuOJHwdr0iB4sVSgiTGpAHBXDi2ArfS+D3/Y\n",
              "osmYP+pEMXPpuxqE1CkKce416GxEiIxLyD98G31r6yS8ouH5/XzUKeyxyzkaKUl7sCJ93TgbbTd3\n",
              "U5D2wzo4gxtnSavpDCvBCHXVxL/qaboDuNzEm5ToM+gpsc+rsp1pPEDzNrAFmK+X8oQJ53zeCSJL\n",
              "77qYeCn8E8uZxefxsQanNSFr51EMcrRsVm7ah3qxlAv7WH66qnsnYov7k5kpu96PJkUpo+xeoFEp\n",
              "llnIdqCwtSQfXO++4LYQ9dYv1A/AekZMtW7f/v2KMMtuDkW1v8e5gk1xYX92b6zXDWvGS5tYGsq5\n",
              "dCI5L1fHqPOFOnNtjD3A/xT/lMoPwuM5vDPfoySx3kPp5WI4Nj3bEqcSJWt54C09vC9gOJTJKflA\n",
              "m+TdIE2o/oL6P+K3PTdKgFsNLSc2S0PSEBNGJVjGeTCC/F5ui7rOTgPwHrkuuvUDX+0SgJYwtJxJ\n",
              "4HBDHPqHqHS2ENpcbOb4pMN75JDN1J5O1DXD8LW/DyuX/bap0ZIOO6OK+9SjU4ba3MyDqj6kpBm/\n",
              "HWUMM0vtQn8YisL+FTLUmdQ65LLlyPZjJHxePRv7rCz5m1MAQqi9bMIhYIgqgrBIlKwWVSD6dQ5C\n",
              "/UPfOMMwgPVT3F2URnAjsXTXRpMOn436d0ILKvVG+LKeIVDZMmUAttvEXulZ8hPltlyShQrSHWxt\n",
              "67XrRhYTGUfzJfbQcEYt8gsUENYPFwvB1ZfIjHI23bb/GDkFBW/Ni1vsJkax4tm1fYeP81HLw3fM\n",
              "4Jbm389tdXfbMWzXEXZ9fs67plDxNGWdiGNBcm5b9ulCofUrSwOgt0tChb5TMu2lEE5y0duS034/\n",
              "L4NdvM0n/9BHJGSCvOu61FyUfDB0g3zn7rbp/ewJlqVenNnFhKKB9l83SqENOo4W4b5gbuly7HPB\n",
              "k9TbZihbMrAChQcexZP87pIEDosAAABFQZ4bRRUsEP8AEVQ9j6uo801ruaKyFsA7WqJkHVpLvFAA\n",
              "3VTvdXncFcJVD2W/nCddjtcH15P/d6RCaWR03hdT6mYtHIeEAAAAKwGeOnRD/wAmq5UchA5ab5D6\n",
              "J4OaBkqhZogo5G1/dX0hrAxNVt+7/9aYAZUAAAAsAZ48akP/ABNYamtQ9Qvh9qkMx4ns48NWpkrm\n",
              "9YXeCtr+6venB4tD0d76pOEAAALWQZohSahBbJlMCCn//taMsAOOikFgzLAJv9zXiaI+gLFBoOrb\n",
              "XEQ8+8jYRbcA52BzDEcb5ESs+60x6vVJxupOT2C5YIcB7ykYXyIYY695lwLRw/kUOWiFQL4+tFRO\n",
              "tch6oXeOqzX3jtbxTrvyW64m2wGwy2D+lw/VXq5ug0/GaBlKP2kYCBwuxLyFYXx+ILUD6W7jvgc7\n",
              "+tEydiZ8DkrtgDzUuMSVx+gxYT8E8Pmm9wtcfdZDlhQ6StM4PfSbEh2s7BySRhmZRXF8e5mJ9b55\n",
              "tPXWbBJxzoklT4IkB0jZreEfHNvkWgkEYg0YG8cvm7wy9iWjekmpILDQA3Eb5DITU5vZLhU7IEM/\n",
              "HwU1263PRiAuH4RlJMko1wNkv+ZVYEOYSTCgOYun2jjZ1jZKVdiY4/787b/Me4GPRn6HcOu+8DEG\n",
              "yKwUylzSFQO26bwjo1PNB0qttwvqU+EAN7j3k/C5/Jz3yjO7DwFvPpWvfBoLzgo+71yE7CZo4gEq\n",
              "PB+w7y30TIT52bsn8spm7G0Ougtt5o290URVG6/v0UpX4YVQuTtW0b1B5MHJPN8LxSv4JsoSkf5y\n",
              "SPMMDA7w0wsxoVwVdKQ5goMlmAtxVmX9lll0B2sv9Otl03F0MMF0LMdYMslS8H8UrkoNJWld9ntB\n",
              "aRK2qCM75oifffeq/cvefKXzr3mWsZ9D9yA3i4wjyzOWpb3BlzsfIvYA1MrFMnBr2fgHoaGDoTvs\n",
              "+PuXLrr5RI9HPKTyUF36Yu3kCYtO6C7MJicm3CVFEMryOYR1Qz9kTi6VYSJ8HTYpcs6Sr9f+c/qm\n",
              "J7k5DHRxpjvmj4xa7g2EYeuv8w9Lk/++9QH0PqKXRvr7Q77QYZh39LXo8HGfZiTkmgcq5cHd5vcW\n",
              "bQR3RS29UuhUkflE4vRzvYnw27WPgeS50XJBEYkOkgyEG06821vlHCTdiEtajdjLsuNACU5nZVxd\n",
              "awae2DrYAAAAVUGeX0UVLBD/ABFPqFV4AFoAg/m2yeHOctvP2Ovrg8Bxuw/bsfJGCm3Ep5t674Fm\n",
              "ZbFQn2D6E063UQ3vBMt/4YUH6vYZ+tdD9fjGURPOv7cVmz8IHdAAAAAnAZ5+dEP/AAUMZdmk5BLk\n",
              "iyipposP8/ACLb/TqpObqT3L2ltTRZHtAAAAIwGeYGpD/wAmwS4Acuj6I3Hu0pTxPHIVwVmK0vYX\n",
              "PD0bWBqQAAADEUGaZUmoQWyZTAgp//7WjLAJIsUxAxGLnylfL34JOxidVsAkrb39UcPWg6xJ8KOw\n",
              "cW2TyqirZRgCV2qkbZmGnV6ZdY1d3jxfL+QwKt1bPxP0BpP+xWtYyfFMl5ymkczpGHl3c/vGTD1j\n",
              "KmdedOWtlCR5Xx7vhudBXbkO9dRvLV52xuOSXk4mPz8pv/O2TTP1i/mR/9CKNLYPIaer/Hotb6S8\n",
              "pV6rdt0jowOBy+esRK5somaZ7OIlJ5p8jEb9Zdyb+BO3N4oJROs0TRrn8AwxUGUVN5X0wDsHp0er\n",
              "7+u4HdCGGRa7FFFlhM+GzTUe7+PHkmTULMutxBKo3x8h1QVps+/yuKXWGAzun3lxkiQektHJf4jW\n",
              "qXQRH5ZFC9wNk59SvBBNrYNiOkWDv0vT1T2OnlxGyr9oo8jE//X0VQwffMmPitd6plaFzedS529w\n",
              "K8QUKzvHVjVYuWP1O87ZabK9Wch/xGd9S3Cc0Qv0cclFhOqwctZVLbooTszoBmoPVNUGOr9EePEp\n",
              "js88M14kFpUbVPrSwyO/Y/zT+ga6g2g5Xt57w1usll2qd09J6apRvgE0ldDRAz/BiBBjFmsP2IW3\n",
              "F3NcTrFxD6CCuwitrqBZckmmJsBTKi9fit/SyuNB2liUtP0Qes22juuQR68QCVrgJZnO59A2urso\n",
              "pg5N9ZgLOniFkhPwchOe+cYtV5nA//CrpEWjSyYQYJek9UswTmn52CvRe3VQFJvLRjCNzshR3fRP\n",
              "wNn5zuVz6txGkr6vW73BIZpmaRb67QDuOSn+QTCGYcN1A6XhfQlJ+TSm2MsgY5akErmKbH44gHiX\n",
              "mRY1LhIiW5GWIPmIIV2qwc0Fkha2FIPZOyD1YBITE2nrSW+LWQ3VsE3CwjUA4XdoJlLhOZx+iEXd\n",
              "0xDUH0TmQgPHdhgJNKrk5nvf9jS9FncHRxpiDVs/9JWNLmpozsh6dg1l+A/1Ud7+ItULIKPzmztd\n",
              "df+gEbuBZUZQmZ+O7fusDP8VR331jTdivGq+YRT9qqV7B85hB3DUgaZRhcLXURLaDLi11toJAAAA\n",
              "dEGeg0UVLBD/ABFQ/2ygABXs9Kalbmk+Ee4HTyun6JLEV7AvzC3JeRqGAV2H6slWLuNQbBdnu+dh\n",
              "4TIqVTgpg7li3Hoia4LbCBWoGUMoAAAhy0KTZuLm79G7d3dbrP33q+0WoVmgpyC82cWQmRH1RPsh\n",
              "w/IOAAAALAGeonRD/wAS1199BnSlBWKxqR010ssrqJbFC+3nM5s7fKCDSKulVdccfmRdAAAAMQGe\n",
              "pGpD/wAmwS4ARLR8qcIWpqAkVciwwdX/2Sv4dmS3m0JiWzru18lBd9ANk20VEPEAAAKsQZqpSahB\n",
              "bJlMCCn//taMsAORrq5CoAvjgHcELXgq0P51EtOgZoBk4luUaxLv4KJYCCEQFnJ9Y9Rawhi195yA\n",
              "j4UwW6pd1r2q14YZyPFSvh44HMfxY0DtiAhKknf6nnUbOtuA/1xYfWNNxvDqhGNW3Lr/ZGfssYix\n",
              "YCxbw7TKr2IjH9AGkEHBt79eUdWT1Tuql39GFLiI16hBiLAD6erD72JAQKNy8zZbW+q96HyTsnYA\n",
              "naJNmI2XKiuYtGLT9SDhUC5meL7IZX4KEn8L4HjK8PuSqxBPfelOHY5kDf1E+PG2D1aBkfDOtwfC\n",
              "ytxBPRqK49wilC6cdEJUxNvt0ixtR+ziKO1kquN47L98IoyGtsjmYA1WWNVny9YGJWP3gC/DrfS3\n",
              "gn0vTmlCZHG1a7/c4dgDbomipfWOTxqMD+U6B5zKL3YXsDejgl+G/1CBgnTBAIH7f6NH1Nw/LOAg\n",
              "75pNWka9EPnrZJV9Eq2l37LGCHbZcBAJ1zHCO8Ppzxy4BUxHkM+Wu8N2cwMTwFwf5OGGjSyEy0DF\n",
              "/xXsoH8TIHuIvd6fdenTaLwGlarFNZMyritjGtxxYoh39SkozroOOPJskdvaCDT4O1ccqb84ilQq\n",
              "RmRHdmHeUWtp/Ho+uuxaE66Azc0DQi5tMK4GRnSUu3i+dkA9ksAKSUvOoWbywP4tZ/S7MvDUGXqZ\n",
              "QzpE7VtICmno5FwIDyUl3BwZJP/KoEUMsYIYCufeD8+e+8TP4WoBF828sj9PGkHffJdfenmJfkpk\n",
              "U5gVmsRjPrd+PrJDQ1FihhYmTV551hmmRREl4SMiyZolmAGKyl/+DP7IohstgWh7MYQWTk8hbQ1W\n",
              "bOidTsfuwLbrpkFBznnqUnjOi3GcD32mqkKdJxfjJ1zP4cJIrS5ZnQkclYAbixtq5KkfAAAAV0Ge\n",
              "x0UVLBD/ABEgRFRqAImkGOG6OLiMJ2/9z0W3wlgpkJdKfoj1HGtrkYMV5GjX2HwSsJFQTEud39iz\n",
              "XsWvdFlHQHgCUZ3Wgtwm1X8+HKwPlKrRu83JPwAAAC0BnuZ0Q/8AJa6+nm43XkI7OZkpEc3EjiwL\n",
              "TLZUuHyBu/jLWm8p4zyrDjG8lxAAAAAmAZ7oakP/ACWtIIPGfpqg0uHbQjuuD1paTMdZKN+4+I6W\n",
              "W+W6p8wAAAKEQZrtSahBbJlMCCn//taMsAORrjh4IAG3+YMxkXDWcilMXyYVW+T8gjiqNO+d0gEs\n",
              "w0aIIlDVFhWbxcPPxvs90a8pHL4N9QYStKlOS7El0QtEsUwafdAHjeaDJvsfm78dZr/LuVghTCvV\n",
              "yiNa9PKzUY8EeQT7F2eUEX1/nrdrv0c/H52Z9c9MKfJzkNuXi/pmKpHdltNwEx7rNSoeLzPCddYM\n",
              "sxJPLHJtOipxLMJ7pThOznbIrlNdMVNfSsQf1bgQ9Wk3mk/SbwjcY5mfRVUSW3f7QCgwi705pbnX\n",
              "m7sAG7jeWEKuNSCAe2U/OMwxUZZCVEqSQWGqNu9Ie84U17+biXQKBebCk4vykB5gzpsWWAx8nrRG\n",
              "FJEzn7qv/DzNpp5NgBfi8sEc59zcxsRZEjhU5KUzLS5HAZbTmusZmz3AZPJsY6pKxXZmKCtc/63n\n",
              "bw/XM4jjT39kl4DzFAWkAjvenFP0k3wQeykwvPSbXj2jTqyJXf1DR1oKP7GTCvFNu5VtkbbxJDBJ\n",
              "0mSB8PSe+SI9CEjt0hJBnQRDb7ydz4lGcI1m7IsWmFiMA4Nj82LtJfxo9ynAnzsuSOaxQbDxkLU9\n",
              "VNmm+MCBLdnzzF49gVfimVmenYPijnHGuPzco1Wyj4DnLvMkshOh9uK6QOSRl9hMcwgM78hev9nu\n",
              "ESN8bjNTnABKKXsj/mDS83EFOpMJaKNXeTd9BDrIo2j4pc4T+rs0jB4V8OUVxmuGxQqj0j/JUVsp\n",
              "xFwADBwXp0J7AzVCF8lqDWCthdwu6xokWVs02krhS2A4jt+pAHCGZVYzDrMjZx4hDChpVagWHpD8\n",
              "SuGr8iXxQmQV+vgNVVHQ68CDVKeYb6MhMikAAABLQZ8LRRUsEP8AEU1/JrAAEXG/jz+nEls939bN\n",
              "N+wGwRFjF0XuqvIZ8MkzWeH9YXxVV/rvC0bGDPCSrbBf+EaYpB/94VqETPGfzuOAAAAANwGfKnRD\n",
              "/wANV6D/F700rj2hfIJZKaNQ/2pfFJwaYq9+qwCJJfISxF2hBU4nAf/jAAvHKNSBmb0AAAAdAZ8s\n",
              "akP/AAUO1m/4Mf7ry07V4tHureqGgpmAErEAAAIbQZsxSahBbJlMCCf//rUqgA3uiBGjABzMLcVD\n",
              "9R47hr4ez8JdKvH9T2CqDpRjSAZWiF7SLNxWQuvuJ781UlyWer5216LEvxfz+MFzPARBWsCtYYgk\n",
              "9wD+GVViodNDB0a74kxFETucATfcsmoVQhOZ1HGmS7NdM8ABfwqAQ0hV4mp7vldSgws/JeYQDw9F\n",
              "LuBcYMeah4Px+k4kpWrfQ2/gDtue7nu6Msto2Rp3oO5sSQvC/AQH5bNJQZaotNT7UbJ/mdrl8Xsh\n",
              "hrXhfENco5dBAziG3Ow/jojRs4x3H9YXMy2wHnotVDbmZLOz4fPzMVxMvU7QCDBK3YkGX5hXqe0T\n",
              "ZGLJ98CSpQd0zZ5B46vvUA7eGwtzBBViPIfsp049CHTLHhQWWqPLaQ9VcV5G9jK1LWCCwRKq5wc8\n",
              "ohWKfyl4mGRqmwLZWiXU4xL1bDlffd9Hkp7orKqauQB3YpR2I1KY+zqIs/Kzsgclas5XnKtaEBPb\n",
              "DPT54R51qgPdXRniMVQuIgk364k/AUPZXfXdmrkighfGfRO3oYO005ozF/tZAW8qzbGNwtSzyac9\n",
              "0RnTOH1KstQIkCnJJF03C/BJuno0y2SDicS63/E0TNB8Yc8ixd7jxHDXCQX711ZLOk8lRd6VlHv5\n",
              "XW4QVR45jfFGP80fHOQ9pMjtQsOtRK9dMsOXK96jrLncSpYm+/vL3c9zZGvFWdtdceNf5w0WNJ8A\n",
              "AAA/QZ9PRRUsEP8AERwr+AZ7PrHpZlaq+6UCIU+qz/faG8rh7XrI8ridChlFJsNl0KPYHWmJ0R/9\n",
              "/wBUoz+Yz5mpAAAAHAGfbnRD/wAFHFwElQBKgs+OSfT+W2Djfvx2tJwAAAAeAZ9wakP/AAUdH4Pg\n",
              "mtA898qEk8/A72EBw0MM1cP8AAACSUGbdUmoQWyZTAgn//61KoAN75LyS4AKzg/1JW2JVUyPigiu\n",
              "8pieUcaumGW99D7FxLdoauP04symPRfH9ETQ53wayIJmc5NT3ur85so+iBnGHyk667p/2LUUgtid\n",
              "0P4ScNPevx2z3ww2v6v1hAhfK1+aThlW+Wd2FwbJ6y7DySS1+psQxm8w+W6UMwwqzMSdMVcoX1pi\n",
              "kPOM5TQmAIMYREGEjnIQEzn1JxJZrOSR/mnVsP8HDUUWLzf3yUuzg1RW0wL/njl9//o+NQd+YOe5\n",
              "C1Z53xPK3lzptB1zZ2/yFOq0fvuMMKrHSB4YWaAOeWQg+lGXsyOTW5RwntREoVDdSYf5FvxNcVyl\n",
              "S30Wc56RYO3IQb1VcMO61sFfs3TUELOmEybv1mKdl/6/lZSPN4IWfkTHMNVj3xlu9qyzhoJ+iqa4\n",
              "zujjZpG9tj2HNoa2dmId65jTN5jc4Sk1cQnWoZHaRBTqUIblHIXoLtxNp7k1f5cGPVYTFjPyhZWU\n",
              "DhG/d8QLq/nK5WBg+UlpZXV9TwIFoJ+0Gq6iVGxjcc4rXgLfoY2zUQN6UDbL7hmdSnWPbRcJfoBF\n",
              "F8M0qPzDDD97c9Cnawe+QZRAbb8JRhvWIDZHdFRMl/gwvwQxAoOxVm4rumYPynlOOCeG5C7ky+D0\n",
              "NeLy4fIwaXI1dW6DBpMHWjv2Bnn9UeONaLLNnwp8CJ6vArX/AwQG+LQ9DdpqWxxHIyJyiqgXF/CP\n",
              "2jIWmU+ZFORxMtfi0LckhP98MB2pEggZgMg8M4gWTe2utvpFgQAAADxBn5NFFSwQ/wARHCv4BoUq\n",
              "lK5NT9wgVvhP0WhKLFr0CBquvsNgoC0eQFlnQ8ovJngwH2cAJx90sAgOfcAAAAAcAZ+ydEP/ACY4\n",
              "tU0vPXEBbcRogtN9ovTELbQ/wAAAABsBn7RqQ/8ABR0fg+BCFhsFh8gLAPk6dnBspqUAAAILQZu5\n",
              "SahBbJlMCCf//rUqgA3kfg9PhZcAERkvEBLCZz+xP+0uyN9+O8ZCB8tOCmpVGoHNaW8m1q8Gkea4\n",
              "AiFO21NJxFWnXuvzIYzh0D1ircHsQOTf+y0PWTCPsgN4nJDKJ2Yn1h6zbtZuqwZ4HPV9Ss4F1ncT\n",
              "+pOTiOLTdx3+0/Tya7vQtli1g+ezoWs7YMP66TbRPbWQ96SF4moWKS6NgKT75EgRbz+rk5wQ+jOh\n",
              "FUC2KoB3CoRZmoPYR/jtXPsmh94nUQWu8rOGTno6y5HYd+02nLAz+M10j0U8Jx/bktxZUr8MGDC/\n",
              "i5uiDZ/nVTyaovqYZRyIk79VPtskYgxYRkWuD+SXH0x0/7kRRtbuj32aKtGHRyb9Iepbl+1X4GLj\n",
              "6ZjL5ahBo23ot2+cFe7hH9OWaukieOG1NU5Oy0Ho6eKSmLbHjs9/72IYWc4QQ6qvwGnzG/0Pk+f3\n",
              "UxWOHKjbyM7T8D01ikUptyco/dNPNE0B/mm1vB+KV+M3jyMWuIIymsCwRBBAwjhq4tZ6twpe5BLR\n",
              "s2SluH6r/69aNhNScBFAGAXIc9f0AMjo82yQt3YmatdxhXQwb9J83mibTXA/rXuTWCwAL6zkn37X\n",
              "QH0M4uAN7PaK5la/05OfHycS63xA5ssgmjyof1C3htRaB9iYIqZAU1CMIFXf4B97pvA7933JW/Al\n",
              "RaqJn7e3GwAAAHNBn9dFFSwQ/wARVDtTiIjTfcyGehMlZRo4BIAfNkomR+62extyaPjtInGTDu1K\n",
              "lKJO2ZnzJEv0/+RakDMG44jR4vCasJrEBgbcE1Ifsewk5+WFtX6KvALK6AJif/7kYen4eIEefFt9\n",
              "mEpRLtX9kNr5uouBAAAAHAGf9nRD/wAFDGXRtuISO8GOhO3DgrdRx2vFVmEAAAA2AZ/4akP/AA1/\n",
              "EsoEBi5J0Ps09GE17eQLO1XJJQAzyjojE4Lg/2uoW48pGtrqmjQDZhj6TI+AAAABW0Gb+0moQWyZ\n",
              "TBRME//+tSqABOSUh8YAQJBd9oHmhXPmQ3IL6FdpSYRY+GqyPqK6yMt/EFkFnpI6cLoJ5ZfYOB37\n",
              "T5pQQulb9wl6JVYcfgsHnVNMsIxb5m3yvhCr75kFSI76s6RO8qmZG2BKdehQn818StlNnMjyDkd8\n",
              "OWHprEYME8HUcFD+IsXy3niZTowIc6sdJdRQmnzaA39n3DlaFSeDk/xsxl/XkHPWun0JFhbFeSdk\n",
              "g1kk6GAye10W5pkmUR2woHKnRyLiv2/Q/R7iuvffwP766BAnOT9LD8zxoZR4TvPWHofLTccgz53C\n",
              "DPL/v/YuDxwBh5HyZT301g43EEjMndcYGoVscEJMidLpqMa5Z8v+SLOiqbOxCfQtLseOSfveF+JV\n",
              "hVLlNFJGAW5Hx/TriJaRAq4lB80wBpcPfjrnorHMHEsjM5nkxo41nlGV/ociBS6r9S2vQOctAAAA\n",
              "JwGeGmpD/wAFDtZvoYDegA0KtBlFNIvpwnn5onpRPgVC6TgYX8hbQAAAAW1Bmh9J4QpSZTAgl//+\n",
              "tSqAIRmJv8cKSABtwkkqbNeZir3iEioZqwD4uKY6cSnxsgD2KGn/fuA3V9TUfjbDPRZB7J+ySUQp\n",
              "Y/PtuLl3Ng0HYvPA1C+rBud33fMCUTXLVc5gStb4KB7BRGzCW4KPYTW0yJlS8G1gG3Y3OBE4I0b+\n",
              "+3RxtkNzN+o2DvXgxhtTicBV8AtIfrVWF7FSD/nzyX5QFPB0nr9NlGhW+hZKfsi0DzCaHdfolChG\n",
              "DvQyJJYwxKLmun8X9IIUQ+3ypqUCe1tm7MkvpKGUGOcNIRDR56sOhw57+wZ7oi+5jv5EATGv9/8T\n",
              "FCXsL0BcpnoHnBbcfgjAZnsEdwkxOwdowIwvh6RFjqLKqzVgTf7viR1YqJ3MDtrRvibSC5dm2HYG\n",
              "S8K1CCz3bhTYkp8NMgLjKhUhNfr3lMNQsg9lx3NOUjyWq+nlYLlicYFBICPYfDATbGJP+iMulqme\n",
              "VldEwkuq7JFAOQAAAFhBnj1FNEwQ/wAii2zE2ibGrTxFVh8oozRjSP12SkTPSxjQHfx4uNpiAIKo\n",
              "0kXW2++lHfxIXGjzv75R5h0JZTAPMDtCeqwDDby5nVd92Cols5x5w6su5vtxAAAAOAGeXHRD/wAS\n",
              "1hi1epgCZMAeD5WIIh0QFqF7pAdbdTffbo+ld87YvFi+bwkeMG8/j+VnXDwHs1ZeAAAAIwGeXmpD\n",
              "/wBM4NodD9S7b5hIYfKU7yPsNRw7HUG1Sq1TwwGrAAAAx0GaQ0moQWiZTAh///6plgAmCzcm6dOw\n",
              "uTggXPQqpNf3xBH6m2OAC2uPLw3s7m8YiBH05a2Fm+CikMoi8aHDVKARD8lYRPYBVCXS6T5DFeWU\n",
              "wLTyJ8FWFaSmzmv7UjtroxXk4OtNPjMR+A67u6GJwxQ4P8J4Rc+M+ZGTyVXCHXnpiC0ehF1xZajR\n",
              "ujDlOt+Y38z1TfhQScAOsS6APC9rbf+CTuVncy82tEs/6e7hW6X022FHJ6OkSOs836DvUNzxT0in\n",
              "bL1Ak0EAAABrQZ5hRREsEP8ACGlj0OBz/bmk6K3HGErBvc0SUDX+HDS58ZEKAG58Da/f6OzrEuIU\n",
              "qrmCm0ttljjjP8IocS8uoz39VI6h5oVgAT8vZGSGH+mLyh30so4m/piOMHPBRLB4RhY8zFlcQZZY\n",
              "riAAAABGAZ6AdEP/AEzQ2PAdy9J3h0QG+wKaeGejGZmKdTQOeeHmMbkxJ1pG/fs4Ix0DwlKqBIbJ\n",
              "hRMfB+jko5HDSckWTihn0rGbgQAAACIBnoJqQ/8AEtg2i6/Ew/eTrymGgWAEGYj6+Q3oqnWUUCpg\n",
              "AAAHzm1vb3YAAABsbXZoZAAAAAAAAAAAAAAAAAAAA+gAAE4gAAEAAAEAAAAAAAAAAAAAAAABAAAA\n",
              "AAAAAAAAAAAAAAAAAQAAAAAAAAAAAAAAAAAAQAAAAAAAAAAAAAAAAAAAAAAAAAAAAAAAAAAAAAAA\n",
              "AAIAAAb4dHJhawAAAFx0a2hkAAAAAwAAAAAAAAAAAAAAAQAAAAAAAE4gAAAAAAAAAAAAAAAAAAAA\n",
              "AAABAAAAAAAAAAAAAAAAAAAAAQAAAAAAAAAAAAAAAAAAQAAAAAGwAAABIAAAAAAAJGVkdHMAAAAc\n",
              "ZWxzdAAAAAAAAAABAABOIAAAEAAAAQAAAAAGcG1kaWEAAAAgbWRoZAAAAAAAAAAAAAAAAAAAKAAA\n",
              "AyAAVcQAAAAAAC1oZGxyAAAAAAAAAAB2aWRlAAAAAAAAAAAAAAAAVmlkZW9IYW5kbGVyAAAABhtt\n",
              "aW5mAAAAFHZtaGQAAAABAAAAAAAAAAAAAAAkZGluZgAAABxkcmVmAAAAAAAAAAEAAAAMdXJsIAAA\n",
              "AAEAAAXbc3RibAAAALNzdHNkAAAAAAAAAAEAAACjYXZjMQAAAAAAAAABAAAAAAAAAAAAAAAAAAAA\n",
              "AAGwASAASAAAAEgAAAAAAAAAAQAAAAAAAAAAAAAAAAAAAAAAAAAAAAAAAAAAAAAAAAAAABj//wAA\n",
              "ADFhdmNDAWQAFf/hABhnZAAVrNlBsJaEAAADAAQAAAMAKDxYtlgBAAZo6+PLIsAAAAAcdXVpZGto\n",
              "QPJfJE/FujmlG88DI/MAAAAAAAAAGHN0dHMAAAAAAAAAAQAAAGQAAAgAAAAAFHN0c3MAAAAAAAAA\n",
              "AQAAAAEAAAMgY3R0cwAAAAAAAABiAAAAAQAAEAAAAAABAAAYAAAAAAEAAAgAAAAAAQAAEAAAAAAB\n",
              "AAAYAAAAAAEAAAgAAAAAAQAAGAAAAAABAAAIAAAAAAEAABgAAAAAAQAACAAAAAABAAAYAAAAAAEA\n",
              "AAgAAAAAAQAAGAAAAAABAAAIAAAAAAEAACAAAAAAAgAACAAAAAABAAAYAAAAAAEAAAgAAAAAAQAA\n",
              "KAAAAAABAAAQAAAAAAEAAAAAAAAAAQAACAAAAAABAAAgAAAAAAIAAAgAAAAAAQAAKAAAAAABAAAQ\n",
              "AAAAAAEAAAAAAAAAAQAACAAAAAABAAAoAAAAAAEAABAAAAAAAQAAAAAAAAABAAAIAAAAAAEAACgA\n",
              "AAAAAQAAEAAAAAABAAAAAAAAAAEAAAgAAAAAAQAAKAAAAAABAAAQAAAAAAEAAAAAAAAAAQAACAAA\n",
              "AAABAAAoAAAAAAEAABAAAAAAAQAAAAAAAAABAAAIAAAAAAEAACgAAAAAAQAAEAAAAAABAAAAAAAA\n",
              "AAEAAAgAAAAAAQAAKAAAAAABAAAQAAAAAAEAAAAAAAAAAQAACAAAAAABAAAoAAAAAAEAABAAAAAA\n",
              "AQAAAAAAAAABAAAIAAAAAAEAACgAAAAAAQAAEAAAAAABAAAAAAAAAAEAAAgAAAAAAQAAKAAAAAAB\n",
              "AAAQAAAAAAEAAAAAAAAAAQAACAAAAAABAAAoAAAAAAEAABAAAAAAAQAAAAAAAAABAAAIAAAAAAEA\n",
              "ACgAAAAAAQAAEAAAAAABAAAAAAAAAAEAAAgAAAAAAQAAKAAAAAABAAAQAAAAAAEAAAAAAAAAAQAA\n",
              "CAAAAAABAAAoAAAAAAEAABAAAAAAAQAAAAAAAAABAAAIAAAAAAEAACgAAAAAAQAAEAAAAAABAAAA\n",
              "AAAAAAEAAAgAAAAAAQAAKAAAAAABAAAQAAAAAAEAAAAAAAAAAQAACAAAAAABAAAYAAAAAAEAAAgA\n",
              "AAAAAQAAKAAAAAABAAAQAAAAAAEAAAAAAAAAAQAACAAAAAABAAAoAAAAAAEAABAAAAAAAQAAAAAA\n",
              "AAABAAAIAAAAABxzdHNjAAAAAAAAAAEAAAABAAAAZAAAAAEAAAGkc3RzegAAAAAAAAAAAAAAZAAA\n",
              "FG0AAAYJAAAB1gAAA10AAANHAAAAvwAAA48AAACMAAADQQAAAJYAAAOTAAAAhwAAAr0AAABcAAAD\n",
              "qwAAAI0AAABUAAADDwAAAEYAAAPvAAAA5wAAAFEAAABfAAADDAAAAIAAAABbAAADXQAAAJMAAABP\n",
              "AAAAOQAAAxAAAABdAAAAJQAAACUAAAOqAAAAWwAAACQAAABLAAADWQAAAKUAAAAwAAAAMAAAAwwA\n",
              "AABlAAAAUQAAAF8AAALjAAAAZgAAAEMAAABAAAADRQAAAF4AAAAxAAAALgAAAuwAAABMAAAAGwAA\n",
              "ACwAAAMZAAAASQAAAC8AAAAwAAAC2gAAAFkAAAArAAAAJwAAAxUAAAB4AAAAMAAAADUAAAKwAAAA\n",
              "WwAAADEAAAAqAAACiAAAAE8AAAA7AAAAIQAAAh8AAABDAAAAIAAAACIAAAJNAAAAQAAAACAAAAAf\n",
              "AAACDwAAAHcAAAAgAAAAOgAAAV8AAAArAAABcQAAAFwAAAA8AAAAJwAAAMsAAABvAAAASgAAACYA\n",
              "AAAUc3RjbwAAAAAAAAABAAAALAAAAGJ1ZHRhAAAAWm1ldGEAAAAAAAAAIWhkbHIAAAAAAAAAAG1k\n",
              "aXJhcHBsAAAAAAAAAAAAAAAALWlsc3QAAAAlqXRvbwAAAB1kYXRhAAAAAQAAAABMYXZmNTcuODMu\n",
              "MTAw\n",
              "\">\n",
              "  Your browser does not support the video tag.\n",
              "</video>"
            ],
            "text/plain": [
              "<IPython.core.display.HTML object>"
            ]
          },
          "metadata": {
            "tags": []
          },
          "execution_count": 196
        }
      ]
    },
    {
      "cell_type": "code",
      "metadata": {
        "id": "UTWYs_hnhbHf",
        "colab_type": "code",
        "colab": {}
      },
      "source": [
        ""
      ],
      "execution_count": 0,
      "outputs": []
    }
  ]
}